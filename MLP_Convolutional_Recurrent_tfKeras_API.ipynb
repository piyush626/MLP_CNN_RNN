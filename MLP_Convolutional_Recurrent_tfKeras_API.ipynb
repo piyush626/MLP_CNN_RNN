{
  "nbformat": 4,
  "nbformat_minor": 0,
  "metadata": {
    "colab": {
      "name": "MLP_Convolutional_Recurrent_tfKeras_API.ipynb",
      "provenance": []
    },
    "kernelspec": {
      "name": "python3",
      "display_name": "Python 3"
    },
    "accelerator": "GPU"
  },
  "cells": [
    {
      "cell_type": "code",
      "metadata": {
        "id": "q5koWxD2lK01"
      },
      "source": [
        "import tensorflow as tf"
      ],
      "execution_count": 1,
      "outputs": []
    },
    {
      "cell_type": "code",
      "metadata": {
        "id": "EGK8vqsalQfj",
        "outputId": "2a3e0ac1-4f1e-4a78-e923-358993cdff5c",
        "colab": {
          "base_uri": "https://localhost:8080/",
          "height": 35
        }
      },
      "source": [
        "tf.__version__"
      ],
      "execution_count": 2,
      "outputs": [
        {
          "output_type": "execute_result",
          "data": {
            "application/vnd.google.colaboratory.intrinsic+json": {
              "type": "string"
            },
            "text/plain": [
              "'2.3.0'"
            ]
          },
          "metadata": {
            "tags": []
          },
          "execution_count": 2
        }
      ]
    },
    {
      "cell_type": "markdown",
      "metadata": {
        "id": "Lnk574EPozOc"
      },
      "source": [
        "MLP for Binary Classification using tf.keras API"
      ]
    },
    {
      "cell_type": "code",
      "metadata": {
        "id": "1XIt1z-nlZHT"
      },
      "source": [
        "import pandas as pd\n",
        "from sklearn.model_selection import train_test_split\n",
        "from sklearn.preprocessing import LabelEncoder\n",
        "from tensorflow.keras import Sequential\n",
        "from tensorflow.keras.layers import Dense "
      ],
      "execution_count": 3,
      "outputs": []
    },
    {
      "cell_type": "code",
      "metadata": {
        "id": "D-LVfswWpcza"
      },
      "source": [
        "path = 'https://raw.githubusercontent.com/jbrownlee/Datasets/master/ionosphere.csv'\n",
        "df = pd.read_csv(path, header=None)"
      ],
      "execution_count": 4,
      "outputs": []
    },
    {
      "cell_type": "code",
      "metadata": {
        "id": "z0ebgFZ9poTa"
      },
      "source": [
        "X,y = df.values[:,:-1],df.values[:,-1]"
      ],
      "execution_count": 6,
      "outputs": []
    },
    {
      "cell_type": "code",
      "metadata": {
        "id": "bqjhzeV1p89w"
      },
      "source": [
        "X = X.astype('float32')"
      ],
      "execution_count": 7,
      "outputs": []
    },
    {
      "cell_type": "code",
      "metadata": {
        "id": "bs351DI0qDiy"
      },
      "source": [
        "y = LabelEncoder().fit_transform(y)"
      ],
      "execution_count": 8,
      "outputs": []
    },
    {
      "cell_type": "code",
      "metadata": {
        "id": "D61LzEjkqMJ3",
        "outputId": "a7bed57d-fe09-4fef-b917-a86a7a057537",
        "colab": {
          "base_uri": "https://localhost:8080/",
          "height": 34
        }
      },
      "source": [
        "X_train, X_test, y_train, y_test = train_test_split(X, y, test_size=0.33)\n",
        "print(X_train.shape, X_test.shape, y_train.shape, y_test.shape)"
      ],
      "execution_count": 9,
      "outputs": [
        {
          "output_type": "stream",
          "text": [
            "(235, 34) (116, 34) (235,) (116,)\n"
          ],
          "name": "stdout"
        }
      ]
    },
    {
      "cell_type": "code",
      "metadata": {
        "id": "X5SYtUmWqOLC"
      },
      "source": [
        "input_features = X_train.shape[1]\n",
        "model = Sequential()\n",
        "model.add(Dense(10, activation='relu', kernel_initializer='he_normal', input_shape=(input_features,)))\n",
        "model.add(Dense(8, activation='relu', kernel_initializer='he_normal'))\n",
        "model.add(Dense(1, activation='sigmoid'))"
      ],
      "execution_count": 11,
      "outputs": []
    },
    {
      "cell_type": "code",
      "metadata": {
        "id": "267azumMqupW"
      },
      "source": [
        "model.compile(optimizer='adam', loss='binary_crossentropy', metrics=['accuracy'])"
      ],
      "execution_count": 12,
      "outputs": []
    },
    {
      "cell_type": "code",
      "metadata": {
        "id": "QsuApcTIrGQV",
        "outputId": "3b22e90e-7191-4ef8-af38-3c498162c9c8",
        "colab": {
          "base_uri": "https://localhost:8080/",
          "height": 34
        }
      },
      "source": [
        "model.fit(X_train, y_train, epochs=150, batch_size=32, verbose=0)"
      ],
      "execution_count": 14,
      "outputs": [
        {
          "output_type": "execute_result",
          "data": {
            "text/plain": [
              "<tensorflow.python.keras.callbacks.History at 0x7fb0e79134e0>"
            ]
          },
          "metadata": {
            "tags": []
          },
          "execution_count": 14
        }
      ]
    },
    {
      "cell_type": "code",
      "metadata": {
        "id": "OPuPy-B6rmgH",
        "outputId": "08d8da6b-0590-44c1-ec8c-33f4bec4660a",
        "colab": {
          "base_uri": "https://localhost:8080/",
          "height": 34
        }
      },
      "source": [
        "loss, acc = model.evaluate(X_test, y_test)"
      ],
      "execution_count": 15,
      "outputs": [
        {
          "output_type": "stream",
          "text": [
            "4/4 [==============================] - 0s 2ms/step - loss: 0.3708 - accuracy: 0.9052\n"
          ],
          "name": "stdout"
        }
      ]
    },
    {
      "cell_type": "code",
      "metadata": {
        "id": "4NnrTd6hrM1d",
        "outputId": "3d308f73-f2f5-4092-db1d-1a22abcb55aa",
        "colab": {
          "base_uri": "https://localhost:8080/",
          "height": 51
        }
      },
      "source": [
        "print('Test Accuracy: %.3f' % acc)\n",
        "row = [1,0,0.99539,-0.05889,0.85243,0.02306,0.83398,-0.37708,1,0.03760,0.85243,-0.17755,0.59755,\n",
        "       -0.44945,0.60536,-0.38223,0.84356,-0.38542,0.58212,-0.32192,0.56971,-0.29674,0.36946,-0.47357,\n",
        "       0.56811,-0.51171,0.41078,-0.46168,0.21266,-0.34090,0.42267,-0.54487,0.18641,-0.45300]\n",
        "yhat = model.predict([row])\n",
        "print('Predicted: %.3f' % yhat)"
      ],
      "execution_count": 16,
      "outputs": [
        {
          "output_type": "stream",
          "text": [
            "Test Accuracy: 0.905\n",
            "Predicted: 0.999\n"
          ],
          "name": "stdout"
        }
      ]
    },
    {
      "cell_type": "markdown",
      "metadata": {
        "id": "Rpc6_mTnsTs4"
      },
      "source": [
        "MLP for Multi-class Classification using tf.keras API"
      ]
    },
    {
      "cell_type": "code",
      "metadata": {
        "id": "SOu7qFO1rvpl"
      },
      "source": [
        "from numpy import argmax\n",
        "from pandas import read_csv\n",
        "from sklearn.model_selection import train_test_split\n",
        "from sklearn.preprocessing import LabelEncoder\n",
        "from tensorflow.keras import Sequential\n",
        "from tensorflow.keras.layers import Dense\n",
        "path = 'https://raw.githubusercontent.com/jbrownlee/Datasets/master/iris.csv'\n",
        "df = read_csv(path, header=None)"
      ],
      "execution_count": 17,
      "outputs": []
    },
    {
      "cell_type": "code",
      "metadata": {
        "id": "SHXgk2ews8bu"
      },
      "source": [
        "X, y = df.values[:, :-1], df.values[:, -1]\n",
        "X = X.astype('float32')\n",
        "y = LabelEncoder().fit_transform(y)"
      ],
      "execution_count": 18,
      "outputs": []
    },
    {
      "cell_type": "code",
      "metadata": {
        "id": "aUEk_iI-tDZE",
        "outputId": "fc614eb8-f8da-4905-c8f4-6751b42b2450",
        "colab": {
          "base_uri": "https://localhost:8080/",
          "height": 34
        }
      },
      "source": [
        "X_train, X_test, y_train, y_test = train_test_split(X, y, test_size=0.33)\n",
        "print(X_train.shape, X_test.shape, y_train.shape, y_test.shape)"
      ],
      "execution_count": 19,
      "outputs": [
        {
          "output_type": "stream",
          "text": [
            "(100, 4) (50, 4) (100,) (50,)\n"
          ],
          "name": "stdout"
        }
      ]
    },
    {
      "cell_type": "code",
      "metadata": {
        "id": "tUQnUWQFtIIN"
      },
      "source": [
        "input_features = X_train.shape[1]\n",
        "model = Sequential()\n",
        "model.add(Dense(10, activation='relu', kernel_initializer='he_normal', input_shape=(input_features,)))\n",
        "model.add(Dense(8, activation='relu', kernel_initializer='he_normal'))\n",
        "model.add(Dense(3, activation='softmax'))"
      ],
      "execution_count": 20,
      "outputs": []
    },
    {
      "cell_type": "code",
      "metadata": {
        "id": "2TuGUHE4tTGJ",
        "outputId": "b3784df2-e074-4b25-f1e6-50ce13107fd8",
        "colab": {
          "base_uri": "https://localhost:8080/",
          "height": 34
        }
      },
      "source": [
        "model.compile(optimizer='adam', loss='sparse_categorical_crossentropy', metrics=['accuracy'])\n",
        "model.fit(X_train, y_train, epochs=150, batch_size=32, verbose=0)"
      ],
      "execution_count": 21,
      "outputs": [
        {
          "output_type": "execute_result",
          "data": {
            "text/plain": [
              "<tensorflow.python.keras.callbacks.History at 0x7fb0e790b470>"
            ]
          },
          "metadata": {
            "tags": []
          },
          "execution_count": 21
        }
      ]
    },
    {
      "cell_type": "code",
      "metadata": {
        "id": "4F-FzEZutgll",
        "outputId": "d2cd657e-8c23-4faf-a95a-60b8559c1102",
        "colab": {
          "base_uri": "https://localhost:8080/",
          "height": 51
        }
      },
      "source": [
        "loss, acc = model.evaluate(X_test, y_test, verbose=0)\n",
        "print('Test Accuracy: %.3f' % acc)\n",
        "row = [5.1,3.5,1.4,0.2]\n",
        "yhat = model.predict([row])\n",
        "print('Predicted: %s (class=%d)' % (yhat, argmax(yhat)))"
      ],
      "execution_count": 22,
      "outputs": [
        {
          "output_type": "stream",
          "text": [
            "Test Accuracy: 0.920\n",
            "Predicted: [[0.90315664 0.06512021 0.03172315]] (class=0)\n"
          ],
          "name": "stdout"
        }
      ]
    },
    {
      "cell_type": "markdown",
      "metadata": {
        "id": "0fnvKUVmukWE"
      },
      "source": [
        "MLP for Regression using tf.keras API"
      ]
    },
    {
      "cell_type": "code",
      "metadata": {
        "id": "o8EsRf6iujjC"
      },
      "source": [
        "from numpy import sqrt\n",
        "from pandas import read_csv\n",
        "from sklearn.model_selection import train_test_split\n",
        "from tensorflow.keras import Sequential\n",
        "from tensorflow.keras.layers import Dense\n",
        "path = 'https://raw.githubusercontent.com/jbrownlee/Datasets/master/housing.csv'\n",
        "df = read_csv(path, header=None)"
      ],
      "execution_count": 24,
      "outputs": []
    },
    {
      "cell_type": "code",
      "metadata": {
        "id": "BbONFsdFtmcA",
        "outputId": "dc954f17-051f-4a44-cb0a-70f8af212dcc",
        "colab": {
          "base_uri": "https://localhost:8080/",
          "height": 34
        }
      },
      "source": [
        "X, y = df.values[:, :-1], df.values[:, -1]\n",
        "X_train, X_test, y_train, y_test = train_test_split(X, y, test_size=0.33)\n",
        "print(X_train.shape, X_test.shape, y_train.shape, y_test.shape)"
      ],
      "execution_count": 25,
      "outputs": [
        {
          "output_type": "stream",
          "text": [
            "(339, 13) (167, 13) (339,) (167,)\n"
          ],
          "name": "stdout"
        }
      ]
    },
    {
      "cell_type": "code",
      "metadata": {
        "id": "_N9JG8aRt9_E"
      },
      "source": [
        "input_features = X_train.shape[1]\n",
        "model = Sequential()\n",
        "model.add(Dense(10, activation='relu', kernel_initializer='he_normal', input_shape=(input_features,)))\n",
        "model.add(Dense(8, activation='relu', kernel_initializer='he_normal'))\n",
        "model.add(Dense(1))"
      ],
      "execution_count": 26,
      "outputs": []
    },
    {
      "cell_type": "code",
      "metadata": {
        "id": "6GoCTdisvGRt",
        "outputId": "5c5fbb2a-fc1a-4b8e-b8a3-cc577ab7181e",
        "colab": {
          "base_uri": "https://localhost:8080/",
          "height": 34
        }
      },
      "source": [
        "model.compile(optimizer='adam', loss='mse')\n",
        "model.fit(X_train, y_train, epochs=150, batch_size=32, verbose=0)"
      ],
      "execution_count": 27,
      "outputs": [
        {
          "output_type": "execute_result",
          "data": {
            "text/plain": [
              "<tensorflow.python.keras.callbacks.History at 0x7fb0e4e77908>"
            ]
          },
          "metadata": {
            "tags": []
          },
          "execution_count": 27
        }
      ]
    },
    {
      "cell_type": "code",
      "metadata": {
        "id": "7YI7PppGvSg8",
        "outputId": "d1b783f0-496b-4f73-87b7-c4befd64b1e6",
        "colab": {
          "base_uri": "https://localhost:8080/",
          "height": 51
        }
      },
      "source": [
        "error = model.evaluate(X_test, y_test, verbose=0)\n",
        "print('MSE: %.3f, RMSE: %.3f' % (error, sqrt(error)))\n",
        "row = [0.00632,18.00,2.310,0,0.5380,6.5750,65.20,4.0900,1,296.0,15.30,396.90,4.98]\n",
        "yhat = model.predict([row])\n",
        "print('Predicted: %.3f' % yhat)"
      ],
      "execution_count": 28,
      "outputs": [
        {
          "output_type": "stream",
          "text": [
            "MSE: 45.335, RMSE: 6.733\n",
            "Predicted: 28.515\n"
          ],
          "name": "stdout"
        }
      ]
    },
    {
      "cell_type": "markdown",
      "metadata": {
        "id": "bQJh42rRwNz4"
      },
      "source": [
        "CNN using tf.keras API"
      ]
    },
    {
      "cell_type": "code",
      "metadata": {
        "id": "lvA-_c5HwWsW"
      },
      "source": [
        "from tensorflow.keras.datasets.mnist import load_data\n",
        "from matplotlib import pyplot"
      ],
      "execution_count": 1,
      "outputs": []
    },
    {
      "cell_type": "code",
      "metadata": {
        "id": "mj-ik5j534lH",
        "outputId": "c178d6c8-25bf-4cce-f775-31b81c431e0d",
        "colab": {
          "base_uri": "https://localhost:8080/",
          "height": 85
        }
      },
      "source": [
        "(trainX, trainy), (testX, testy) = load_data()\n",
        "\n",
        "print('Train: X=%s, y=%s' % (trainX.shape, trainy.shape))\n",
        "print('Test: X=%s, y=%s' % (testX.shape, testy.shape))\n"
      ],
      "execution_count": 2,
      "outputs": [
        {
          "output_type": "stream",
          "text": [
            "Downloading data from https://storage.googleapis.com/tensorflow/tf-keras-datasets/mnist.npz\n",
            "11493376/11490434 [==============================] - 0s 0us/step\n",
            "Train: X=(60000, 28, 28), y=(60000,)\n",
            "Test: X=(10000, 28, 28), y=(10000,)\n"
          ],
          "name": "stdout"
        }
      ]
    },
    {
      "cell_type": "code",
      "metadata": {
        "id": "jf-jvWtM3-NF",
        "outputId": "1e7eb1dc-0f47-4a7d-cfe1-8021c05c2f67",
        "colab": {
          "base_uri": "https://localhost:8080/",
          "height": 269
        }
      },
      "source": [
        "for i in range(25):\n",
        "\tpyplot.subplot(5, 5, i+1)\n",
        "\tpyplot.imshow(trainX[i], cmap=pyplot.get_cmap('gray'))"
      ],
      "execution_count": 3,
      "outputs": [
        {
          "output_type": "display_data",
          "data": {
            "image/png": "[encoded data removed]",
            "text/plain": [
              "<Figure size 432x288 with 25 Axes>"
            ]
          },
          "metadata": {
            "tags": [],
            "needs_background": "light"
          }
        }
      ]
    },
    {
      "cell_type": "code",
      "metadata": {
        "id": "mEQjobyq4U_3"
      },
      "source": [
        "from numpy import asarray\n",
        "from numpy import unique\n",
        "from numpy import argmax\n",
        "from tensorflow.keras.datasets.mnist import load_data\n",
        "from tensorflow.keras import Sequential\n",
        "from tensorflow.keras.layers import Dense\n",
        "from tensorflow.keras.layers import Conv2D\n",
        "from tensorflow.keras.layers import MaxPool2D\n",
        "from tensorflow.keras.layers import Flatten\n",
        "from tensorflow.keras.layers import Dropout\n",
        "# load dataset\n",
        "(x_train, y_train), (x_test, y_test) = load_data()\n",
        "# reshape data to have a single channel\n",
        "x_train = x_train.reshape((x_train.shape[0], x_train.shape[1], x_train.shape[2], 1))\n",
        "x_test = x_test.reshape((x_test.shape[0], x_test.shape[1], x_test.shape[2], 1))"
      ],
      "execution_count": 4,
      "outputs": []
    },
    {
      "cell_type": "code",
      "metadata": {
        "id": "f5nclB6l5IGi",
        "outputId": "2a72b114-39ef-4688-ca35-369c2ba2aea5",
        "colab": {
          "base_uri": "https://localhost:8080/",
          "height": 34
        }
      },
      "source": [
        "# determine the shape of the input images\n",
        "in_shape = x_train.shape[1:]\n",
        "# determine the number of classes\n",
        "n_classes = len(unique(y_train))\n",
        "print(in_shape, n_classes)\n"
      ],
      "execution_count": 5,
      "outputs": [
        {
          "output_type": "stream",
          "text": [
            "(28, 28, 1) 10\n"
          ],
          "name": "stdout"
        }
      ]
    },
    {
      "cell_type": "code",
      "metadata": {
        "id": "zQt4s9zc5SK2"
      },
      "source": [
        "# normalize pixel values\n",
        "x_train = x_train.astype('float32') / 255.0\n",
        "x_test = x_test.astype('float32') / 255.0\n"
      ],
      "execution_count": 6,
      "outputs": []
    },
    {
      "cell_type": "code",
      "metadata": {
        "id": "0bAc2lD65oDn"
      },
      "source": [
        "# define model\n",
        "model = Sequential()\n",
        "model.add(Conv2D(32, (3,3), activation='relu', kernel_initializer='he_uniform', input_shape=in_shape))\n",
        "model.add(MaxPool2D((2, 2)))\n",
        "model.add(Flatten())\n",
        "model.add(Dense(100, activation='relu', kernel_initializer='he_uniform'))\n",
        "model.add(Dropout(0.5))\n",
        "model.add(Dense(n_classes, activation='softmax'))\n"
      ],
      "execution_count": 7,
      "outputs": []
    },
    {
      "cell_type": "code",
      "metadata": {
        "id": "AnKnZ6of6J1H",
        "outputId": "59295f48-1a6c-48f1-c34a-49990b6b8773",
        "colab": {
          "base_uri": "https://localhost:8080/",
          "height": 374
        }
      },
      "source": [
        "# define loss and optimizer\n",
        "model.compile(optimizer='adam', loss='sparse_categorical_crossentropy', metrics=['accuracy'])\n",
        "# fit the model\n",
        "model.fit(x_train, y_train, epochs=10, batch_size=128)\n"
      ],
      "execution_count": 9,
      "outputs": [
        {
          "output_type": "stream",
          "text": [
            "Epoch 1/10\n",
            "469/469 [==============================] - 1s 3ms/step - loss: 0.0488 - accuracy: 0.9842\n",
            "Epoch 2/10\n",
            "469/469 [==============================] - 1s 3ms/step - loss: 0.0438 - accuracy: 0.9858\n",
            "Epoch 3/10\n",
            "469/469 [==============================] - 1s 3ms/step - loss: 0.0419 - accuracy: 0.9869\n",
            "Epoch 4/10\n",
            "469/469 [==============================] - 1s 3ms/step - loss: 0.0377 - accuracy: 0.9877\n",
            "Epoch 5/10\n",
            "469/469 [==============================] - 1s 3ms/step - loss: 0.0347 - accuracy: 0.9882\n",
            "Epoch 6/10\n",
            "469/469 [==============================] - 1s 3ms/step - loss: 0.0328 - accuracy: 0.9890\n",
            "Epoch 7/10\n",
            "469/469 [==============================] - 1s 3ms/step - loss: 0.0312 - accuracy: 0.9894\n",
            "Epoch 8/10\n",
            "469/469 [==============================] - 1s 3ms/step - loss: 0.0287 - accuracy: 0.9905\n",
            "Epoch 9/10\n",
            "469/469 [==============================] - 1s 3ms/step - loss: 0.0281 - accuracy: 0.9902\n",
            "Epoch 10/10\n",
            "469/469 [==============================] - 1s 3ms/step - loss: 0.0261 - accuracy: 0.9910\n"
          ],
          "name": "stdout"
        },
        {
          "output_type": "execute_result",
          "data": {
            "text/plain": [
              "<tensorflow.python.keras.callbacks.History at 0x7effc015f780>"
            ]
          },
          "metadata": {
            "tags": []
          },
          "execution_count": 9
        }
      ]
    },
    {
      "cell_type": "code",
      "metadata": {
        "id": "W_MWTY-s6MWj",
        "outputId": "b0004c95-0743-4b9c-d097-9b3b9db53e7d",
        "colab": {
          "base_uri": "https://localhost:8080/",
          "height": 51
        }
      },
      "source": [
        "# evaluate the model\n",
        "loss, acc = model.evaluate(x_test, y_test, verbose=0)\n",
        "print('Accuracy: %.3f' % acc)\n",
        "# make a prediction\n",
        "image = x_train[0]\n",
        "yhat = model.predict(asarray([image]))\n",
        "print('Predicted: class=%d' % argmax(yhat))"
      ],
      "execution_count": 10,
      "outputs": [
        {
          "output_type": "stream",
          "text": [
            "Accuracy: 0.987\n",
            "Predicted: class=5\n"
          ],
          "name": "stdout"
        }
      ]
    },
    {
      "cell_type": "markdown",
      "metadata": {
        "id": "aZbNGTB88J64"
      },
      "source": [
        "RNN using tf.keras API"
      ]
    },
    {
      "cell_type": "code",
      "metadata": {
        "id": "nvtMKCLU7f3J",
        "outputId": "f309004a-9fee-4abd-aef5-a4029297398c",
        "colab": {
          "base_uri": "https://localhost:8080/",
          "height": 34
        }
      },
      "source": [
        "from numpy import sqrt\n",
        "from numpy import asarray\n",
        "from pandas import read_csv\n",
        "from tensorflow.keras import Sequential\n",
        "from tensorflow.keras.layers import Dense\n",
        "from tensorflow.keras.layers import LSTM\n",
        " \n",
        "# split a univariate sequence into samples\n",
        "def split_sequence(sequence, n_steps):\n",
        "\tX, y = list(), list()\n",
        "\tfor i in range(len(sequence)):\n",
        "\t\t# find the end of this pattern\n",
        "\t\tend_ix = i + n_steps\n",
        "\t\t# check if we are beyond the sequence\n",
        "\t\tif end_ix > len(sequence)-1:\n",
        "\t\t\tbreak\n",
        "\t\t# gather input and output parts of the pattern\n",
        "\t\tseq_x, seq_y = sequence[i:end_ix], sequence[end_ix]\n",
        "\t\tX.append(seq_x)\n",
        "\t\ty.append(seq_y)\n",
        "\treturn asarray(X), asarray(y)\n",
        " \n",
        "# load the dataset\n",
        "path = 'https://raw.githubusercontent.com/jbrownlee/Datasets/master/monthly-car-sales.csv'\n",
        "df = read_csv(path, header=0, index_col=0, squeeze=True)\n",
        "# retrieve the values\n",
        "values = df.values.astype('float32')\n",
        "# specify the window size\n",
        "n_steps = 5\n",
        "# split into samples\n",
        "X, y = split_sequence(values, n_steps)\n",
        "# reshape into [samples, timesteps, features]\n",
        "X = X.reshape((X.shape[0], X.shape[1], 1))\n",
        "# split into train/test\n",
        "n_test = 12\n",
        "X_train, X_test, y_train, y_test = X[:-n_test], X[-n_test:], y[:-n_test], y[-n_test:]\n",
        "print(X_train.shape, X_test.shape, y_train.shape, y_test.shape)"
      ],
      "execution_count": 15,
      "outputs": [
        {
          "output_type": "stream",
          "text": [
            "(91, 5, 1) (12, 5, 1) (91,) (12,)\n"
          ],
          "name": "stdout"
        }
      ]
    },
    {
      "cell_type": "code",
      "metadata": {
        "id": "VdS2T-Oi7l8R",
        "outputId": "d6bcdeae-ac50-4ca0-e9f5-263e7f62720c",
        "colab": {
          "base_uri": "https://localhost:8080/",
          "height": 54
        }
      },
      "source": [
        "# define model\n",
        "model = Sequential()\n",
        "model.add(LSTM(100, activation='relu', kernel_initializer='he_normal', input_shape=(n_steps,1)))\n",
        "model.add(Dense(50, activation='relu', kernel_initializer='he_normal'))\n",
        "model.add(Dense(50, activation='relu', kernel_initializer='he_normal'))\n",
        "model.add(Dense(1))\n",
        "# compile the model\n",
        "model.compile(optimizer='adam', loss='mse', metrics=['mae'])\n"
      ],
      "execution_count": 16,
      "outputs": [
        {
          "output_type": "stream",
          "text": [
            "WARNING:tensorflow:Layer lstm will not use cuDNN kernel since it doesn't meet the cuDNN kernel criteria. It will use generic GPU kernel as fallback when running on GPU\n"
          ],
          "name": "stdout"
        }
      ]
    },
    {
      "cell_type": "code",
      "metadata": {
        "id": "K_EawVh4A_VQ",
        "outputId": "bd92e0aa-b1ac-4489-e191-5dac44ba6194",
        "colab": {
          "base_uri": "https://localhost:8080/",
          "height": 1000
        }
      },
      "source": [
        "model.fit(X_train, y_train, epochs=350, batch_size=32, verbose=2, validation_data=(X_test, y_test))\n",
        "# evaluate the model\n",
        "mse, mae = model.evaluate(X_test, y_test, verbose=0)\n",
        "print('MSE: %.3f, RMSE: %.3f, MAE: %.3f' % (mse, sqrt(mse), mae))\n",
        "# make a prediction\n",
        "row = asarray([18024.0, 16722.0, 14385.0, 21342.0, 17180.0]).reshape((1, n_steps, 1))\n",
        "yhat = model.predict(row)\n",
        "print('Predicted: %.3f' % (yhat))"
      ],
      "execution_count": 17,
      "outputs": [
        {
          "output_type": "stream",
          "text": [
            "Epoch 1/350\n",
            "3/3 - 0s - loss: 293164864.0000 - mae: 16371.9619 - val_loss: 167536880.0000 - val_mae: 12154.8564\n",
            "Epoch 2/350\n",
            "3/3 - 0s - loss: 59667300.0000 - mae: 6711.8188 - val_loss: 14390440.0000 - val_mae: 3286.6711\n",
            "Epoch 3/350\n",
            "3/3 - 0s - loss: 17594958.0000 - mae: 3547.5667 - val_loss: 51380884.0000 - val_mae: 5800.0610\n",
            "Epoch 4/350\n",
            "3/3 - 0s - loss: 51064288.0000 - mae: 6100.1826 - val_loss: 90214848.0000 - val_mae: 8535.2979\n",
            "Epoch 5/350\n",
            "3/3 - 0s - loss: 50443152.0000 - mae: 6185.7021 - val_loss: 53658796.0000 - val_mae: 6275.3853\n",
            "Epoch 6/350\n",
            "3/3 - 0s - loss: 27627382.0000 - mae: 4457.4751 - val_loss: 18674164.0000 - val_mae: 3770.7480\n",
            "Epoch 7/350\n",
            "3/3 - 0s - loss: 12045678.0000 - mae: 2699.6594 - val_loss: 12824160.0000 - val_mae: 2915.2363\n",
            "Epoch 8/350\n",
            "3/3 - 0s - loss: 14060448.0000 - mae: 2935.3215 - val_loss: 26506112.0000 - val_mae: 4071.0457\n",
            "Epoch 9/350\n",
            "3/3 - 0s - loss: 19501256.0000 - mae: 3610.3770 - val_loss: 31107032.0000 - val_mae: 4384.8149\n",
            "Epoch 10/350\n",
            "3/3 - 0s - loss: 17462046.0000 - mae: 3377.2185 - val_loss: 21288770.0000 - val_mae: 3588.2288\n",
            "Epoch 11/350\n",
            "3/3 - 0s - loss: 11407927.0000 - mae: 2599.3804 - val_loss: 14840551.0000 - val_mae: 3423.0234\n",
            "Epoch 12/350\n",
            "3/3 - 0s - loss: 8991398.0000 - mae: 2413.1479 - val_loss: 13896160.0000 - val_mae: 3100.7976\n",
            "Epoch 13/350\n",
            "3/3 - 0s - loss: 10720288.0000 - mae: 2631.3521 - val_loss: 15238341.0000 - val_mae: 3247.1589\n",
            "Epoch 14/350\n",
            "3/3 - 0s - loss: 12540967.0000 - mae: 2949.2068 - val_loss: 15003528.0000 - val_mae: 3265.7195\n",
            "Epoch 15/350\n",
            "3/3 - 0s - loss: 10615012.0000 - mae: 2715.9053 - val_loss: 11403045.0000 - val_mae: 2862.5703\n",
            "Epoch 16/350\n",
            "3/3 - 0s - loss: 9227559.0000 - mae: 2393.4414 - val_loss: 11657500.0000 - val_mae: 2700.4089\n",
            "Epoch 17/350\n",
            "3/3 - 0s - loss: 9448898.0000 - mae: 2324.1418 - val_loss: 17604304.0000 - val_mae: 3488.2053\n",
            "Epoch 18/350\n",
            "3/3 - 0s - loss: 11057938.0000 - mae: 2589.9536 - val_loss: 16197803.0000 - val_mae: 3328.3030\n",
            "Epoch 19/350\n",
            "3/3 - 0s - loss: 10185089.0000 - mae: 2438.9055 - val_loss: 13712063.0000 - val_mae: 3211.5442\n",
            "Epoch 20/350\n",
            "3/3 - 0s - loss: 8903809.0000 - mae: 2316.7595 - val_loss: 13699891.0000 - val_mae: 3194.1609\n",
            "Epoch 21/350\n",
            "3/3 - 0s - loss: 9014161.0000 - mae: 2403.3701 - val_loss: 15444743.0000 - val_mae: 3335.1926\n",
            "Epoch 22/350\n",
            "3/3 - 0s - loss: 9145793.0000 - mae: 2465.8757 - val_loss: 12492336.0000 - val_mae: 2830.9121\n",
            "Epoch 23/350\n",
            "3/3 - 0s - loss: 9101968.0000 - mae: 2468.0029 - val_loss: 11805593.0000 - val_mae: 2933.4006\n",
            "Epoch 24/350\n",
            "3/3 - 0s - loss: 9073672.0000 - mae: 2371.1646 - val_loss: 12307013.0000 - val_mae: 3047.7537\n",
            "Epoch 25/350\n",
            "3/3 - 0s - loss: 9101657.0000 - mae: 2381.6250 - val_loss: 12537651.0000 - val_mae: 3090.6731\n",
            "Epoch 26/350\n",
            "3/3 - 0s - loss: 8956464.0000 - mae: 2331.9329 - val_loss: 12154003.0000 - val_mae: 3006.8337\n",
            "Epoch 27/350\n",
            "3/3 - 0s - loss: 8643716.0000 - mae: 2316.0251 - val_loss: 11603323.0000 - val_mae: 2888.8174\n",
            "Epoch 28/350\n",
            "3/3 - 0s - loss: 8602500.0000 - mae: 2333.0610 - val_loss: 11361932.0000 - val_mae: 2841.7439\n",
            "Epoch 29/350\n",
            "3/3 - 0s - loss: 8655921.0000 - mae: 2355.7432 - val_loss: 11294477.0000 - val_mae: 2836.8291\n",
            "Epoch 30/350\n",
            "3/3 - 0s - loss: 8502786.0000 - mae: 2329.3198 - val_loss: 11305020.0000 - val_mae: 2835.9524\n",
            "Epoch 31/350\n",
            "3/3 - 0s - loss: 8268749.5000 - mae: 2277.2998 - val_loss: 10936663.0000 - val_mae: 2664.5261\n",
            "Epoch 32/350\n",
            "3/3 - 0s - loss: 8579006.0000 - mae: 2365.5635 - val_loss: 11057323.0000 - val_mae: 2652.6182\n",
            "Epoch 33/350\n",
            "3/3 - 0s - loss: 8792393.0000 - mae: 2400.3193 - val_loss: 12822919.0000 - val_mae: 2862.5535\n",
            "Epoch 34/350\n",
            "3/3 - 0s - loss: 8837121.0000 - mae: 2392.0808 - val_loss: 12081637.0000 - val_mae: 2810.1816\n",
            "Epoch 35/350\n",
            "3/3 - 0s - loss: 9191105.0000 - mae: 2446.8440 - val_loss: 12166101.0000 - val_mae: 2819.6035\n",
            "Epoch 36/350\n",
            "3/3 - 0s - loss: 9367407.0000 - mae: 2479.5322 - val_loss: 12082103.0000 - val_mae: 2776.8074\n",
            "Epoch 37/350\n",
            "3/3 - 0s - loss: 9470826.0000 - mae: 2489.0342 - val_loss: 11771133.0000 - val_mae: 2721.4563\n",
            "Epoch 38/350\n",
            "3/3 - 0s - loss: 9359308.0000 - mae: 2477.7942 - val_loss: 11717243.0000 - val_mae: 2675.7454\n",
            "Epoch 39/350\n",
            "3/3 - 0s - loss: 9317583.0000 - mae: 2479.3198 - val_loss: 11728795.0000 - val_mae: 2675.8889\n",
            "Epoch 40/350\n",
            "3/3 - 0s - loss: 9123025.0000 - mae: 2428.4424 - val_loss: 11801724.0000 - val_mae: 2691.7991\n",
            "Epoch 41/350\n",
            "3/3 - 0s - loss: 8946002.0000 - mae: 2376.8127 - val_loss: 12323848.0000 - val_mae: 2732.2483\n",
            "Epoch 42/350\n",
            "3/3 - 0s - loss: 9035474.0000 - mae: 2386.4148 - val_loss: 12196660.0000 - val_mae: 2711.4290\n",
            "Epoch 43/350\n",
            "3/3 - 0s - loss: 8722718.0000 - mae: 2323.8608 - val_loss: 11664017.0000 - val_mae: 2586.8264\n",
            "Epoch 44/350\n",
            "3/3 - 0s - loss: 8670104.0000 - mae: 2317.8198 - val_loss: 11525635.0000 - val_mae: 2576.2854\n",
            "Epoch 45/350\n",
            "3/3 - 0s - loss: 8621252.0000 - mae: 2311.2646 - val_loss: 11467371.0000 - val_mae: 2566.4727\n",
            "Epoch 46/350\n",
            "3/3 - 0s - loss: 8532794.0000 - mae: 2286.2446 - val_loss: 11487587.0000 - val_mae: 2580.4060\n",
            "Epoch 47/350\n",
            "3/3 - 0s - loss: 8551012.0000 - mae: 2296.1028 - val_loss: 11464369.0000 - val_mae: 2597.0466\n",
            "Epoch 48/350\n",
            "3/3 - 0s - loss: 9026112.0000 - mae: 2346.5632 - val_loss: 11279523.0000 - val_mae: 2542.8230\n",
            "Epoch 49/350\n",
            "3/3 - 0s - loss: 9285796.0000 - mae: 2382.7087 - val_loss: 11730556.0000 - val_mae: 2689.1924\n",
            "Epoch 50/350\n",
            "3/3 - 0s - loss: 8638790.0000 - mae: 2315.1316 - val_loss: 12041347.0000 - val_mae: 2707.1855\n",
            "Epoch 51/350\n",
            "3/3 - 0s - loss: 8309864.0000 - mae: 2275.0972 - val_loss: 11807811.0000 - val_mae: 2819.0613\n",
            "Epoch 52/350\n",
            "3/3 - 0s - loss: 8433163.0000 - mae: 2280.3323 - val_loss: 11795397.0000 - val_mae: 2845.4075\n",
            "Epoch 53/350\n",
            "3/3 - 0s - loss: 8971022.0000 - mae: 2351.3921 - val_loss: 12847285.0000 - val_mae: 3000.8616\n",
            "Epoch 54/350\n",
            "3/3 - 0s - loss: 8665709.0000 - mae: 2325.4612 - val_loss: 12486075.0000 - val_mae: 2967.4602\n",
            "Epoch 55/350\n",
            "3/3 - 0s - loss: 8699126.0000 - mae: 2341.9175 - val_loss: 12501627.0000 - val_mae: 2998.4607\n",
            "Epoch 56/350\n",
            "3/3 - 0s - loss: 9199349.0000 - mae: 2389.1892 - val_loss: 12942957.0000 - val_mae: 3056.0020\n",
            "Epoch 57/350\n",
            "3/3 - 0s - loss: 9150475.0000 - mae: 2408.8877 - val_loss: 11603432.0000 - val_mae: 2796.5186\n",
            "Epoch 58/350\n",
            "3/3 - 0s - loss: 9055499.0000 - mae: 2369.1877 - val_loss: 11440468.0000 - val_mae: 2795.0049\n",
            "Epoch 59/350\n",
            "3/3 - 0s - loss: 9025387.0000 - mae: 2368.6824 - val_loss: 11982801.0000 - val_mae: 2924.9207\n",
            "Epoch 60/350\n",
            "3/3 - 0s - loss: 8831081.0000 - mae: 2330.1873 - val_loss: 12063821.0000 - val_mae: 2951.6785\n",
            "Epoch 61/350\n",
            "3/3 - 0s - loss: 8777856.0000 - mae: 2320.3423 - val_loss: 12592601.0000 - val_mae: 2982.7959\n",
            "Epoch 62/350\n",
            "3/3 - 0s - loss: 8869018.0000 - mae: 2343.0542 - val_loss: 12681317.0000 - val_mae: 3010.9866\n",
            "Epoch 63/350\n",
            "3/3 - 0s - loss: 8768263.0000 - mae: 2332.7097 - val_loss: 12700609.0000 - val_mae: 3041.6482\n",
            "Epoch 64/350\n",
            "3/3 - 0s - loss: 8888672.0000 - mae: 2327.8464 - val_loss: 12701259.0000 - val_mae: 3037.0605\n",
            "Epoch 65/350\n",
            "3/3 - 0s - loss: 8814058.0000 - mae: 2340.5315 - val_loss: 12679892.0000 - val_mae: 3014.2468\n",
            "Epoch 66/350\n",
            "3/3 - 0s - loss: 8770906.0000 - mae: 2328.6245 - val_loss: 12663953.0000 - val_mae: 2985.0398\n",
            "Epoch 67/350\n",
            "3/3 - 0s - loss: 8776642.0000 - mae: 2329.4014 - val_loss: 12589339.0000 - val_mae: 2986.7891\n",
            "Epoch 68/350\n",
            "3/3 - 0s - loss: 8693849.0000 - mae: 2308.9121 - val_loss: 11481603.0000 - val_mae: 2908.2102\n",
            "Epoch 69/350\n",
            "3/3 - 0s - loss: 8706020.0000 - mae: 2308.6797 - val_loss: 14943021.0000 - val_mae: 3481.1243\n",
            "Epoch 70/350\n",
            "3/3 - 0s - loss: 8640341.0000 - mae: 2323.8076 - val_loss: 11772480.0000 - val_mae: 2992.2180\n",
            "Epoch 71/350\n",
            "3/3 - 0s - loss: 8734019.0000 - mae: 2328.0298 - val_loss: 11879667.0000 - val_mae: 2994.8669\n",
            "Epoch 72/350\n",
            "3/3 - 0s - loss: 8932017.0000 - mae: 2371.6289 - val_loss: 11836989.0000 - val_mae: 3010.1191\n",
            "Epoch 73/350\n",
            "3/3 - 0s - loss: 9055541.0000 - mae: 2393.1367 - val_loss: 11672653.0000 - val_mae: 2973.2722\n",
            "Epoch 74/350\n",
            "3/3 - 0s - loss: 9234724.0000 - mae: 2420.1687 - val_loss: 11628003.0000 - val_mae: 2935.5925\n",
            "Epoch 75/350\n",
            "3/3 - 0s - loss: 9170629.0000 - mae: 2420.8782 - val_loss: 12052852.0000 - val_mae: 2964.2571\n",
            "Epoch 76/350\n",
            "3/3 - 0s - loss: 9079553.0000 - mae: 2409.5449 - val_loss: 13495304.0000 - val_mae: 3124.8301\n",
            "Epoch 77/350\n",
            "3/3 - 0s - loss: 8862833.0000 - mae: 2338.9348 - val_loss: 13451521.0000 - val_mae: 3071.6055\n",
            "Epoch 78/350\n",
            "3/3 - 0s - loss: 8208991.5000 - mae: 2224.6030 - val_loss: 12708199.0000 - val_mae: 2897.1907\n",
            "Epoch 79/350\n",
            "3/3 - 0s - loss: 8383991.5000 - mae: 2185.6543 - val_loss: 12583691.0000 - val_mae: 2848.6042\n",
            "Epoch 80/350\n",
            "3/3 - 0s - loss: 8440971.0000 - mae: 2215.9111 - val_loss: 12222791.0000 - val_mae: 2753.0437\n",
            "Epoch 81/350\n",
            "3/3 - 0s - loss: 8656299.0000 - mae: 2240.7742 - val_loss: 12078925.0000 - val_mae: 2755.3889\n",
            "Epoch 82/350\n",
            "3/3 - 0s - loss: 8840416.0000 - mae: 2241.5425 - val_loss: 11624005.0000 - val_mae: 2682.4038\n",
            "Epoch 83/350\n",
            "3/3 - 0s - loss: 8523715.0000 - mae: 2212.4685 - val_loss: 11788664.0000 - val_mae: 2801.5637\n",
            "Epoch 84/350\n",
            "3/3 - 0s - loss: 8477575.0000 - mae: 2208.0518 - val_loss: 12024037.0000 - val_mae: 2846.9990\n",
            "Epoch 85/350\n",
            "3/3 - 0s - loss: 8174813.5000 - mae: 2182.9412 - val_loss: 11682883.0000 - val_mae: 2828.6211\n",
            "Epoch 86/350\n",
            "3/3 - 0s - loss: 7974944.5000 - mae: 2177.9900 - val_loss: 12250904.0000 - val_mae: 2785.4309\n",
            "Epoch 87/350\n",
            "3/3 - 0s - loss: 7838593.5000 - mae: 2156.3462 - val_loss: 13321895.0000 - val_mae: 2911.9226\n",
            "Epoch 88/350\n",
            "3/3 - 0s - loss: 7795564.5000 - mae: 2159.2202 - val_loss: 13547703.0000 - val_mae: 2931.1682\n",
            "Epoch 89/350\n",
            "3/3 - 0s - loss: 7461431.5000 - mae: 2138.6333 - val_loss: 13379725.0000 - val_mae: 2916.2107\n",
            "Epoch 90/350\n",
            "3/3 - 0s - loss: 7547189.5000 - mae: 2208.5002 - val_loss: 13110600.0000 - val_mae: 2860.7244\n",
            "Epoch 91/350\n",
            "3/3 - 0s - loss: 7913204.5000 - mae: 2304.4629 - val_loss: 12392373.0000 - val_mae: 2730.3508\n",
            "Epoch 92/350\n",
            "3/3 - 0s - loss: 8301831.0000 - mae: 2246.4836 - val_loss: 13385963.0000 - val_mae: 2705.6541\n",
            "Epoch 93/350\n",
            "3/3 - 0s - loss: 9199319.0000 - mae: 2429.7600 - val_loss: 12504997.0000 - val_mae: 2732.5247\n",
            "Epoch 94/350\n",
            "3/3 - 0s - loss: 9809875.0000 - mae: 2543.9873 - val_loss: 12521637.0000 - val_mae: 2968.3855\n",
            "Epoch 95/350\n",
            "3/3 - 0s - loss: 8698441.0000 - mae: 2371.9783 - val_loss: 12285844.0000 - val_mae: 2619.1433\n",
            "Epoch 96/350\n",
            "3/3 - 0s - loss: 8462929.0000 - mae: 2250.4492 - val_loss: 12227528.0000 - val_mae: 2646.6453\n",
            "Epoch 97/350\n",
            "3/3 - 0s - loss: 8450425.0000 - mae: 2265.8337 - val_loss: 10415395.0000 - val_mae: 2583.6807\n",
            "Epoch 98/350\n",
            "3/3 - 0s - loss: 8329579.5000 - mae: 2267.0198 - val_loss: 12521136.0000 - val_mae: 2848.6951\n",
            "Epoch 99/350\n",
            "3/3 - 0s - loss: 8501559.0000 - mae: 2281.6990 - val_loss: 11867651.0000 - val_mae: 2673.3601\n",
            "Epoch 100/350\n",
            "3/3 - 0s - loss: 8354904.5000 - mae: 2218.7993 - val_loss: 12505101.0000 - val_mae: 2874.4639\n",
            "Epoch 101/350\n",
            "3/3 - 0s - loss: 8466840.0000 - mae: 2256.1501 - val_loss: 12367663.0000 - val_mae: 2796.7766\n",
            "Epoch 102/350\n",
            "3/3 - 0s - loss: 8680049.0000 - mae: 2299.0850 - val_loss: 11424056.0000 - val_mae: 2746.1394\n",
            "Epoch 103/350\n",
            "3/3 - 0s - loss: 8411137.0000 - mae: 2254.5876 - val_loss: 10948437.0000 - val_mae: 2721.2756\n",
            "Epoch 104/350\n",
            "3/3 - 0s - loss: 8358537.0000 - mae: 2256.1750 - val_loss: 10935145.0000 - val_mae: 2656.5159\n",
            "Epoch 105/350\n",
            "3/3 - 0s - loss: 8057558.0000 - mae: 2193.3208 - val_loss: 10893416.0000 - val_mae: 2543.4695\n",
            "Epoch 106/350\n",
            "3/3 - 0s - loss: 7829968.0000 - mae: 2159.9875 - val_loss: 13102508.0000 - val_mae: 2730.3645\n",
            "Epoch 107/350\n",
            "3/3 - 0s - loss: 7754006.0000 - mae: 2149.4395 - val_loss: 12811496.0000 - val_mae: 2674.8040\n",
            "Epoch 108/350\n",
            "3/3 - 0s - loss: 7678054.5000 - mae: 2153.5972 - val_loss: 12625952.0000 - val_mae: 2740.8562\n",
            "Epoch 109/350\n",
            "3/3 - 0s - loss: 7621943.0000 - mae: 2167.5215 - val_loss: 12330464.0000 - val_mae: 2723.9797\n",
            "Epoch 110/350\n",
            "3/3 - 0s - loss: 7559450.5000 - mae: 2176.7151 - val_loss: 12934104.0000 - val_mae: 2844.5793\n",
            "Epoch 111/350\n",
            "3/3 - 0s - loss: 7363627.0000 - mae: 2151.3970 - val_loss: 12907153.0000 - val_mae: 2829.9583\n",
            "Epoch 112/350\n",
            "3/3 - 0s - loss: 7539201.5000 - mae: 2152.5535 - val_loss: 12989932.0000 - val_mae: 2835.2920\n",
            "Epoch 113/350\n",
            "3/3 - 0s - loss: 7454469.0000 - mae: 2156.9724 - val_loss: 12873448.0000 - val_mae: 2859.7148\n",
            "Epoch 114/350\n",
            "3/3 - 0s - loss: 7986051.0000 - mae: 2253.2273 - val_loss: 11743589.0000 - val_mae: 2710.7795\n",
            "Epoch 115/350\n",
            "3/3 - 0s - loss: 7713376.5000 - mae: 2223.8308 - val_loss: 11924540.0000 - val_mae: 2698.0974\n",
            "Epoch 116/350\n",
            "3/3 - 0s - loss: 7714141.0000 - mae: 2142.4451 - val_loss: 12817083.0000 - val_mae: 2787.1882\n",
            "Epoch 117/350\n",
            "3/3 - 0s - loss: 7926481.5000 - mae: 2133.4243 - val_loss: 12571928.0000 - val_mae: 2755.4961\n",
            "Epoch 118/350\n",
            "3/3 - 0s - loss: 7657875.5000 - mae: 2182.6599 - val_loss: 12822024.0000 - val_mae: 2809.0798\n",
            "Epoch 119/350\n",
            "3/3 - 0s - loss: 7611867.5000 - mae: 2197.2156 - val_loss: 12733285.0000 - val_mae: 2802.8008\n",
            "Epoch 120/350\n",
            "3/3 - 0s - loss: 7420775.5000 - mae: 2152.5881 - val_loss: 12578349.0000 - val_mae: 2796.4521\n",
            "Epoch 121/350\n",
            "3/3 - 0s - loss: 7350422.5000 - mae: 2106.1917 - val_loss: 12488448.0000 - val_mae: 2774.5764\n",
            "Epoch 122/350\n",
            "3/3 - 0s - loss: 7266804.5000 - mae: 2090.9915 - val_loss: 12361000.0000 - val_mae: 2770.0496\n",
            "Epoch 123/350\n",
            "3/3 - 0s - loss: 7240146.5000 - mae: 2122.2788 - val_loss: 12438128.0000 - val_mae: 2771.0117\n",
            "Epoch 124/350\n",
            "3/3 - 0s - loss: 7145356.5000 - mae: 2113.9358 - val_loss: 12372309.0000 - val_mae: 2745.3164\n",
            "Epoch 125/350\n",
            "3/3 - 0s - loss: 7105849.0000 - mae: 2066.9187 - val_loss: 12411403.0000 - val_mae: 2734.3633\n",
            "Epoch 126/350\n",
            "3/3 - 0s - loss: 7095247.5000 - mae: 2071.7300 - val_loss: 12345000.0000 - val_mae: 2737.1746\n",
            "Epoch 127/350\n",
            "3/3 - 0s - loss: 7014480.0000 - mae: 2076.2478 - val_loss: 12284204.0000 - val_mae: 2741.3484\n",
            "Epoch 128/350\n",
            "3/3 - 0s - loss: 6997775.5000 - mae: 2080.2544 - val_loss: 12229155.0000 - val_mae: 2749.2844\n",
            "Epoch 129/350\n",
            "3/3 - 0s - loss: 7001785.0000 - mae: 2075.8298 - val_loss: 12117129.0000 - val_mae: 2757.0154\n",
            "Epoch 130/350\n",
            "3/3 - 0s - loss: 7041672.5000 - mae: 2042.3831 - val_loss: 12122189.0000 - val_mae: 2753.1504\n",
            "Epoch 131/350\n",
            "3/3 - 0s - loss: 6923393.5000 - mae: 2052.9026 - val_loss: 12221861.0000 - val_mae: 2771.4736\n",
            "Epoch 132/350\n",
            "3/3 - 0s - loss: 6934500.0000 - mae: 2082.4248 - val_loss: 12189061.0000 - val_mae: 2760.0818\n",
            "Epoch 133/350\n",
            "3/3 - 0s - loss: 6870291.5000 - mae: 2047.1185 - val_loss: 12172811.0000 - val_mae: 2749.4932\n",
            "Epoch 134/350\n",
            "3/3 - 0s - loss: 6868452.5000 - mae: 2043.5474 - val_loss: 12162999.0000 - val_mae: 2762.5303\n",
            "Epoch 135/350\n",
            "3/3 - 0s - loss: 6902706.0000 - mae: 2043.5017 - val_loss: 12124165.0000 - val_mae: 2747.6418\n",
            "Epoch 136/350\n",
            "3/3 - 0s - loss: 6760838.5000 - mae: 2022.0612 - val_loss: 12128999.0000 - val_mae: 2767.6555\n",
            "Epoch 137/350\n",
            "3/3 - 0s - loss: 6817337.5000 - mae: 2058.5403 - val_loss: 12199336.0000 - val_mae: 2774.8147\n",
            "Epoch 138/350\n",
            "3/3 - 0s - loss: 6824602.0000 - mae: 2054.3875 - val_loss: 12066871.0000 - val_mae: 2758.0703\n",
            "Epoch 139/350\n",
            "3/3 - 0s - loss: 6786500.0000 - mae: 2007.3187 - val_loss: 12051463.0000 - val_mae: 2757.4133\n",
            "Epoch 140/350\n",
            "3/3 - 0s - loss: 6804387.0000 - mae: 2044.2610 - val_loss: 12287857.0000 - val_mae: 2798.8484\n",
            "Epoch 141/350\n",
            "3/3 - 0s - loss: 6784111.0000 - mae: 2061.6233 - val_loss: 12078171.0000 - val_mae: 2761.1277\n",
            "Epoch 142/350\n",
            "3/3 - 0s - loss: 6669174.0000 - mae: 2021.8627 - val_loss: 12041845.0000 - val_mae: 2768.7415\n",
            "Epoch 143/350\n",
            "3/3 - 0s - loss: 6613641.0000 - mae: 2000.2571 - val_loss: 12019288.0000 - val_mae: 2767.0898\n",
            "Epoch 144/350\n",
            "3/3 - 0s - loss: 6719695.0000 - mae: 2007.1365 - val_loss: 12003155.0000 - val_mae: 2755.6985\n",
            "Epoch 145/350\n",
            "3/3 - 0s - loss: 7087212.5000 - mae: 2094.1387 - val_loss: 12212948.0000 - val_mae: 2798.7249\n",
            "Epoch 146/350\n",
            "3/3 - 0s - loss: 6575567.5000 - mae: 2018.6766 - val_loss: 11970253.0000 - val_mae: 2757.1731\n",
            "Epoch 147/350\n",
            "3/3 - 0s - loss: 6732919.0000 - mae: 2003.4310 - val_loss: 12126373.0000 - val_mae: 2736.7227\n",
            "Epoch 148/350\n",
            "3/3 - 0s - loss: 6573578.0000 - mae: 1971.5891 - val_loss: 12204104.0000 - val_mae: 2801.7295\n",
            "Epoch 149/350\n",
            "3/3 - 0s - loss: 6544866.0000 - mae: 2028.8932 - val_loss: 12526591.0000 - val_mae: 2859.9832\n",
            "Epoch 150/350\n",
            "3/3 - 0s - loss: 6540061.5000 - mae: 2027.8948 - val_loss: 12117689.0000 - val_mae: 2784.2136\n",
            "Epoch 151/350\n",
            "3/3 - 0s - loss: 6573460.5000 - mae: 1980.9257 - val_loss: 12111695.0000 - val_mae: 2764.3818\n",
            "Epoch 152/350\n",
            "3/3 - 0s - loss: 6537577.0000 - mae: 1990.2936 - val_loss: 12203027.0000 - val_mae: 2803.9102\n",
            "Epoch 153/350\n",
            "3/3 - 0s - loss: 6501361.0000 - mae: 2002.4275 - val_loss: 12268101.0000 - val_mae: 2819.4072\n",
            "Epoch 154/350\n",
            "3/3 - 0s - loss: 6557362.5000 - mae: 1997.7600 - val_loss: 12057843.0000 - val_mae: 2763.8191\n",
            "Epoch 155/350\n",
            "3/3 - 0s - loss: 6518424.0000 - mae: 1965.2892 - val_loss: 12102264.0000 - val_mae: 2769.5334\n",
            "Epoch 156/350\n",
            "3/3 - 0s - loss: 6398434.0000 - mae: 1983.5996 - val_loss: 12536899.0000 - val_mae: 2867.9929\n",
            "Epoch 157/350\n",
            "3/3 - 0s - loss: 6464362.0000 - mae: 2009.1935 - val_loss: 12145819.0000 - val_mae: 2805.8015\n",
            "Epoch 158/350\n",
            "3/3 - 0s - loss: 6308307.0000 - mae: 1967.5311 - val_loss: 12013896.0000 - val_mae: 2783.3010\n",
            "Epoch 159/350\n",
            "3/3 - 0s - loss: 6384479.0000 - mae: 1944.2114 - val_loss: 11946299.0000 - val_mae: 2778.8196\n",
            "Epoch 160/350\n",
            "3/3 - 0s - loss: 6401913.0000 - mae: 1965.5790 - val_loss: 12244365.0000 - val_mae: 2834.8298\n",
            "Epoch 161/350\n",
            "3/3 - 0s - loss: 6325601.0000 - mae: 1990.0388 - val_loss: 12108297.0000 - val_mae: 2813.8938\n",
            "Epoch 162/350\n",
            "3/3 - 0s - loss: 6461619.5000 - mae: 1954.2474 - val_loss: 11926064.0000 - val_mae: 2757.4397\n",
            "Epoch 163/350\n",
            "3/3 - 0s - loss: 6305357.5000 - mae: 1928.5508 - val_loss: 12182160.0000 - val_mae: 2832.0852\n",
            "Epoch 164/350\n",
            "3/3 - 0s - loss: 6308339.5000 - mae: 1980.2179 - val_loss: 12522055.0000 - val_mae: 2881.2571\n",
            "Epoch 165/350\n",
            "3/3 - 0s - loss: 6373580.0000 - mae: 1996.5240 - val_loss: 12032852.0000 - val_mae: 2770.8284\n",
            "Epoch 166/350\n",
            "3/3 - 0s - loss: 6323028.5000 - mae: 1952.5258 - val_loss: 12105700.0000 - val_mae: 2802.3274\n",
            "Epoch 167/350\n",
            "3/3 - 0s - loss: 6244574.0000 - mae: 1927.9205 - val_loss: 12011248.0000 - val_mae: 2779.4875\n",
            "Epoch 168/350\n",
            "3/3 - 0s - loss: 6258366.5000 - mae: 1943.1968 - val_loss: 12352539.0000 - val_mae: 2843.9026\n",
            "Epoch 169/350\n",
            "3/3 - 0s - loss: 6170193.5000 - mae: 1958.1422 - val_loss: 12160904.0000 - val_mae: 2808.3708\n",
            "Epoch 170/350\n",
            "3/3 - 0s - loss: 6125528.0000 - mae: 1926.3850 - val_loss: 12116107.0000 - val_mae: 2799.0098\n",
            "Epoch 171/350\n",
            "3/3 - 0s - loss: 6145048.5000 - mae: 1944.2233 - val_loss: 12231985.0000 - val_mae: 2831.6550\n",
            "Epoch 172/350\n",
            "3/3 - 0s - loss: 6141690.5000 - mae: 1953.8582 - val_loss: 12231400.0000 - val_mae: 2831.0437\n",
            "Epoch 173/350\n",
            "3/3 - 0s - loss: 6250307.0000 - mae: 1947.6250 - val_loss: 12038596.0000 - val_mae: 2757.9814\n",
            "Epoch 174/350\n",
            "3/3 - 0s - loss: 6094479.5000 - mae: 1894.6312 - val_loss: 12331485.0000 - val_mae: 2850.2637\n",
            "Epoch 175/350\n",
            "3/3 - 0s - loss: 6304757.5000 - mae: 1968.3936 - val_loss: 13121443.0000 - val_mae: 2961.1572\n",
            "Epoch 176/350\n",
            "3/3 - 0s - loss: 6227692.5000 - mae: 1991.3611 - val_loss: 12230661.0000 - val_mae: 2812.7168\n",
            "Epoch 177/350\n",
            "3/3 - 0s - loss: 6602241.5000 - mae: 1957.7318 - val_loss: 12424563.0000 - val_mae: 2786.6897\n",
            "Epoch 178/350\n",
            "3/3 - 0s - loss: 6316051.5000 - mae: 1924.2881 - val_loss: 12399485.0000 - val_mae: 2872.5371\n",
            "Epoch 179/350\n",
            "3/3 - 0s - loss: 6036695.0000 - mae: 1955.1322 - val_loss: 13183416.0000 - val_mae: 2992.0012\n",
            "Epoch 180/350\n",
            "3/3 - 0s - loss: 6211684.5000 - mae: 1975.8219 - val_loss: 11954597.0000 - val_mae: 2779.5881\n",
            "Epoch 181/350\n",
            "3/3 - 0s - loss: 6027715.0000 - mae: 1897.5917 - val_loss: 11866928.0000 - val_mae: 2748.0378\n",
            "Epoch 182/350\n",
            "3/3 - 0s - loss: 5905999.5000 - mae: 1875.1281 - val_loss: 12119464.0000 - val_mae: 2816.8484\n",
            "Epoch 183/350\n",
            "3/3 - 0s - loss: 5877222.5000 - mae: 1899.7754 - val_loss: 12326541.0000 - val_mae: 2849.8884\n",
            "Epoch 184/350\n",
            "3/3 - 0s - loss: 6076013.0000 - mae: 1949.5837 - val_loss: 12319563.0000 - val_mae: 2852.5730\n",
            "Epoch 185/350\n",
            "3/3 - 0s - loss: 5824670.0000 - mae: 1867.8962 - val_loss: 11893013.0000 - val_mae: 2740.2959\n",
            "Epoch 186/350\n",
            "3/3 - 0s - loss: 6013344.5000 - mae: 1886.0100 - val_loss: 11897616.0000 - val_mae: 2735.1487\n",
            "Epoch 187/350\n",
            "3/3 - 0s - loss: 5885909.0000 - mae: 1888.5807 - val_loss: 12521061.0000 - val_mae: 2882.2712\n",
            "Epoch 188/350\n",
            "3/3 - 0s - loss: 5919912.0000 - mae: 1929.7825 - val_loss: 12477864.0000 - val_mae: 2874.8240\n",
            "Epoch 189/350\n",
            "3/3 - 0s - loss: 5854388.5000 - mae: 1892.4744 - val_loss: 12025907.0000 - val_mae: 2763.9231\n",
            "Epoch 190/350\n",
            "3/3 - 0s - loss: 6040636.0000 - mae: 1891.0172 - val_loss: 12184483.0000 - val_mae: 2824.4832\n",
            "Epoch 191/350\n",
            "3/3 - 0s - loss: 5820980.5000 - mae: 1881.7927 - val_loss: 12350699.0000 - val_mae: 2851.3000\n",
            "Epoch 192/350\n",
            "3/3 - 0s - loss: 5793026.0000 - mae: 1869.5292 - val_loss: 12229749.0000 - val_mae: 2832.6738\n",
            "Epoch 193/350\n",
            "3/3 - 0s - loss: 5738714.5000 - mae: 1863.3413 - val_loss: 12347204.0000 - val_mae: 2860.3967\n",
            "Epoch 194/350\n",
            "3/3 - 0s - loss: 5749135.0000 - mae: 1864.7886 - val_loss: 12422187.0000 - val_mae: 2884.0369\n",
            "Epoch 195/350\n",
            "3/3 - 0s - loss: 5830890.0000 - mae: 1893.1167 - val_loss: 12764099.0000 - val_mae: 2947.1257\n",
            "Epoch 196/350\n",
            "3/3 - 0s - loss: 5783308.5000 - mae: 1890.4780 - val_loss: 13707339.0000 - val_mae: 3065.5793\n",
            "Epoch 197/350\n",
            "3/3 - 0s - loss: 5731331.5000 - mae: 1891.5886 - val_loss: 12628501.0000 - val_mae: 2927.4475\n",
            "Epoch 198/350\n",
            "3/3 - 0s - loss: 5962366.5000 - mae: 1886.7461 - val_loss: 12293479.0000 - val_mae: 2823.9524\n",
            "Epoch 199/350\n",
            "3/3 - 0s - loss: 5721828.5000 - mae: 1853.6570 - val_loss: 13778733.0000 - val_mae: 3076.5154\n",
            "Epoch 200/350\n",
            "3/3 - 0s - loss: 5820765.5000 - mae: 1916.3658 - val_loss: 14061115.0000 - val_mae: 3117.6260\n",
            "Epoch 201/350\n",
            "3/3 - 0s - loss: 5693630.0000 - mae: 1880.7875 - val_loss: 13038824.0000 - val_mae: 2997.3357\n",
            "Epoch 202/350\n",
            "3/3 - 0s - loss: 5662546.5000 - mae: 1854.0333 - val_loss: 12975523.0000 - val_mae: 2989.5706\n",
            "Epoch 203/350\n",
            "3/3 - 0s - loss: 5656611.0000 - mae: 1855.8798 - val_loss: 13330947.0000 - val_mae: 3049.8391\n",
            "Epoch 204/350\n",
            "3/3 - 0s - loss: 5764681.0000 - mae: 1888.0752 - val_loss: 14058939.0000 - val_mae: 3126.5129\n",
            "Epoch 205/350\n",
            "3/3 - 0s - loss: 5751851.5000 - mae: 1887.0562 - val_loss: 12866760.0000 - val_mae: 2965.7263\n",
            "Epoch 206/350\n",
            "3/3 - 0s - loss: 5690878.0000 - mae: 1844.2313 - val_loss: 13134251.0000 - val_mae: 3019.9075\n",
            "Epoch 207/350\n",
            "3/3 - 0s - loss: 5579287.0000 - mae: 1846.8143 - val_loss: 13814297.0000 - val_mae: 3101.9324\n",
            "Epoch 208/350\n",
            "3/3 - 0s - loss: 5661160.5000 - mae: 1897.0275 - val_loss: 14021060.0000 - val_mae: 3122.9109\n",
            "Epoch 209/350\n",
            "3/3 - 0s - loss: 5833165.5000 - mae: 1869.6735 - val_loss: 13058719.0000 - val_mae: 3011.2761\n",
            "Epoch 210/350\n",
            "3/3 - 0s - loss: 5633504.5000 - mae: 1866.1112 - val_loss: 13896619.0000 - val_mae: 3121.6340\n",
            "Epoch 211/350\n",
            "3/3 - 0s - loss: 5607105.0000 - mae: 1850.7614 - val_loss: 13413411.0000 - val_mae: 3064.4465\n",
            "Epoch 212/350\n",
            "3/3 - 0s - loss: 5508133.5000 - mae: 1830.3361 - val_loss: 13776785.0000 - val_mae: 3101.8875\n",
            "Epoch 213/350\n",
            "3/3 - 0s - loss: 5671825.0000 - mae: 1855.5439 - val_loss: 13496424.0000 - val_mae: 3067.7871\n",
            "Epoch 214/350\n",
            "3/3 - 0s - loss: 5501617.0000 - mae: 1831.2524 - val_loss: 14178683.0000 - val_mae: 3138.9465\n",
            "Epoch 215/350\n",
            "3/3 - 0s - loss: 5562424.5000 - mae: 1858.0337 - val_loss: 13550303.0000 - val_mae: 3071.6074\n",
            "Epoch 216/350\n",
            "3/3 - 0s - loss: 5499404.5000 - mae: 1827.1689 - val_loss: 13580209.0000 - val_mae: 3070.7214\n",
            "Epoch 217/350\n",
            "3/3 - 0s - loss: 5459966.0000 - mae: 1820.7339 - val_loss: 13777100.0000 - val_mae: 3083.9453\n",
            "Epoch 218/350\n",
            "3/3 - 0s - loss: 5504475.5000 - mae: 1855.7394 - val_loss: 14126411.0000 - val_mae: 3117.8125\n",
            "Epoch 219/350\n",
            "3/3 - 0s - loss: 5406365.0000 - mae: 1831.6498 - val_loss: 13508656.0000 - val_mae: 3052.6067\n",
            "Epoch 220/350\n",
            "3/3 - 0s - loss: 5439404.5000 - mae: 1817.3905 - val_loss: 13763100.0000 - val_mae: 3085.7844\n",
            "Epoch 221/350\n",
            "3/3 - 0s - loss: 5413831.5000 - mae: 1826.1925 - val_loss: 13939733.0000 - val_mae: 3110.5264\n",
            "Epoch 222/350\n",
            "3/3 - 0s - loss: 5369311.5000 - mae: 1822.3998 - val_loss: 14179984.0000 - val_mae: 3134.1375\n",
            "Epoch 223/350\n",
            "3/3 - 0s - loss: 5369651.5000 - mae: 1825.3049 - val_loss: 13892473.0000 - val_mae: 3097.0120\n",
            "Epoch 224/350\n",
            "3/3 - 0s - loss: 5484349.5000 - mae: 1821.5649 - val_loss: 13574517.0000 - val_mae: 3047.1541\n",
            "Epoch 225/350\n",
            "3/3 - 0s - loss: 5324163.0000 - mae: 1801.7522 - val_loss: 14452301.0000 - val_mae: 3151.9407\n",
            "Epoch 226/350\n",
            "3/3 - 0s - loss: 5646680.0000 - mae: 1885.8678 - val_loss: 14540544.0000 - val_mae: 3159.3867\n",
            "Epoch 227/350\n",
            "3/3 - 0s - loss: 5319050.0000 - mae: 1810.8011 - val_loss: 13526277.0000 - val_mae: 3052.4231\n",
            "Epoch 228/350\n",
            "3/3 - 0s - loss: 5421605.5000 - mae: 1797.0730 - val_loss: 13410139.0000 - val_mae: 3021.3411\n",
            "Epoch 229/350\n",
            "3/3 - 0s - loss: 5321169.5000 - mae: 1782.4646 - val_loss: 14513293.0000 - val_mae: 3154.5051\n",
            "Epoch 230/350\n",
            "3/3 - 0s - loss: 5357382.5000 - mae: 1842.6284 - val_loss: 15432360.0000 - val_mae: 3220.0020\n",
            "Epoch 231/350\n",
            "3/3 - 0s - loss: 5405368.0000 - mae: 1845.1466 - val_loss: 13683515.0000 - val_mae: 3068.3030\n",
            "Epoch 232/350\n",
            "3/3 - 0s - loss: 5478760.5000 - mae: 1817.3400 - val_loss: 14026185.0000 - val_mae: 3118.0310\n",
            "Epoch 233/350\n",
            "3/3 - 0s - loss: 5890909.0000 - mae: 1926.5800 - val_loss: 12505827.0000 - val_mae: 3007.3352\n",
            "Epoch 234/350\n",
            "3/3 - 0s - loss: 5574225.5000 - mae: 1849.3658 - val_loss: 11364861.0000 - val_mae: 2823.2063\n",
            "Epoch 235/350\n",
            "3/3 - 0s - loss: 5633856.5000 - mae: 1835.6646 - val_loss: 11728521.0000 - val_mae: 2939.7917\n",
            "Epoch 236/350\n",
            "3/3 - 0s - loss: 5796037.5000 - mae: 1895.8187 - val_loss: 11672016.0000 - val_mae: 2921.3215\n",
            "Epoch 237/350\n",
            "3/3 - 0s - loss: 6316603.0000 - mae: 1931.4351 - val_loss: 11719016.0000 - val_mae: 2927.1504\n",
            "Epoch 238/350\n",
            "3/3 - 0s - loss: 6656027.5000 - mae: 1973.0072 - val_loss: 12777577.0000 - val_mae: 3010.0605\n",
            "Epoch 239/350\n",
            "3/3 - 0s - loss: 6139720.5000 - mae: 1899.9041 - val_loss: 13612544.0000 - val_mae: 3148.6592\n",
            "Epoch 240/350\n",
            "3/3 - 0s - loss: 6110589.0000 - mae: 1862.0149 - val_loss: 11469011.0000 - val_mae: 2833.9749\n",
            "Epoch 241/350\n",
            "3/3 - 0s - loss: 6393458.5000 - mae: 1930.8757 - val_loss: 11611915.0000 - val_mae: 2861.4763\n",
            "Epoch 242/350\n",
            "3/3 - 0s - loss: 6333431.0000 - mae: 1929.5404 - val_loss: 11590733.0000 - val_mae: 2875.7363\n",
            "Epoch 243/350\n",
            "3/3 - 0s - loss: 6322550.0000 - mae: 1923.8925 - val_loss: 11595605.0000 - val_mae: 2914.6248\n",
            "Epoch 244/350\n",
            "3/3 - 0s - loss: 6083573.5000 - mae: 1886.2495 - val_loss: 11211531.0000 - val_mae: 2884.7412\n",
            "Epoch 245/350\n",
            "3/3 - 0s - loss: 6023903.5000 - mae: 1875.2349 - val_loss: 11448152.0000 - val_mae: 2847.1394\n",
            "Epoch 246/350\n",
            "3/3 - 0s - loss: 6186075.5000 - mae: 1886.0254 - val_loss: 12514011.0000 - val_mae: 2955.9824\n",
            "Epoch 247/350\n",
            "3/3 - 0s - loss: 6086738.5000 - mae: 1854.0959 - val_loss: 12542743.0000 - val_mae: 2956.0020\n",
            "Epoch 248/350\n",
            "3/3 - 0s - loss: 6007550.5000 - mae: 1826.8141 - val_loss: 12687741.0000 - val_mae: 3035.5586\n",
            "Epoch 249/350\n",
            "3/3 - 0s - loss: 6038956.5000 - mae: 1904.9562 - val_loss: 12906099.0000 - val_mae: 3107.1143\n",
            "Epoch 250/350\n",
            "3/3 - 0s - loss: 5767927.0000 - mae: 1845.9579 - val_loss: 12216528.0000 - val_mae: 2945.9998\n",
            "Epoch 251/350\n",
            "3/3 - 0s - loss: 6034675.5000 - mae: 1830.8544 - val_loss: 12068288.0000 - val_mae: 2939.8398\n",
            "Epoch 252/350\n",
            "3/3 - 0s - loss: 5835832.5000 - mae: 1816.2087 - val_loss: 12684432.0000 - val_mae: 3072.5500\n",
            "Epoch 253/350\n",
            "3/3 - 0s - loss: 5841096.0000 - mae: 1867.7416 - val_loss: 11205133.0000 - val_mae: 2747.4343\n",
            "Epoch 254/350\n",
            "3/3 - 0s - loss: 6378781.5000 - mae: 1901.9015 - val_loss: 11190001.0000 - val_mae: 2721.7305\n",
            "Epoch 255/350\n",
            "3/3 - 0s - loss: 5830102.0000 - mae: 1811.9399 - val_loss: 13919048.0000 - val_mae: 3075.9001\n",
            "Epoch 256/350\n",
            "3/3 - 0s - loss: 6289459.5000 - mae: 1954.3911 - val_loss: 14494141.0000 - val_mae: 3083.7354\n",
            "Epoch 257/350\n",
            "3/3 - 0s - loss: 6041043.0000 - mae: 1862.7157 - val_loss: 13604248.0000 - val_mae: 3033.8926\n",
            "Epoch 258/350\n",
            "3/3 - 0s - loss: 5520510.0000 - mae: 1795.0670 - val_loss: 12661239.0000 - val_mae: 2889.3523\n",
            "Epoch 259/350\n",
            "3/3 - 0s - loss: 5562110.5000 - mae: 1817.8149 - val_loss: 12729963.0000 - val_mae: 2902.2288\n",
            "Epoch 260/350\n",
            "3/3 - 0s - loss: 5576365.5000 - mae: 1815.2737 - val_loss: 12266863.0000 - val_mae: 2756.5671\n",
            "Epoch 261/350\n",
            "3/3 - 0s - loss: 5641841.0000 - mae: 1813.2644 - val_loss: 12228197.0000 - val_mae: 2795.6135\n",
            "Epoch 262/350\n",
            "3/3 - 0s - loss: 5953872.0000 - mae: 1875.0240 - val_loss: 12378797.0000 - val_mae: 2853.9492\n",
            "Epoch 263/350\n",
            "3/3 - 0s - loss: 5777492.5000 - mae: 1828.2159 - val_loss: 10820236.0000 - val_mae: 2663.7676\n",
            "Epoch 264/350\n",
            "3/3 - 0s - loss: 5697066.0000 - mae: 1791.4418 - val_loss: 11219153.0000 - val_mae: 2775.8660\n",
            "Epoch 265/350\n",
            "3/3 - 0s - loss: 5913065.5000 - mae: 1808.7178 - val_loss: 14523043.0000 - val_mae: 3221.5125\n",
            "Epoch 266/350\n",
            "3/3 - 0s - loss: 6402846.0000 - mae: 1927.6899 - val_loss: 12199176.0000 - val_mae: 2874.3789\n",
            "Epoch 267/350\n",
            "3/3 - 0s - loss: 6082316.5000 - mae: 1854.9362 - val_loss: 11277184.0000 - val_mae: 2791.0696\n",
            "Epoch 268/350\n",
            "3/3 - 0s - loss: 6356658.5000 - mae: 1896.4092 - val_loss: 11095621.0000 - val_mae: 2878.0125\n",
            "Epoch 269/350\n",
            "3/3 - 0s - loss: 6630313.0000 - mae: 1964.3521 - val_loss: 11308623.0000 - val_mae: 2936.9944\n",
            "Epoch 270/350\n",
            "3/3 - 0s - loss: 6411038.0000 - mae: 1910.4796 - val_loss: 11871873.0000 - val_mae: 2773.6917\n",
            "Epoch 271/350\n",
            "3/3 - 0s - loss: 6421808.5000 - mae: 1882.7183 - val_loss: 11835371.0000 - val_mae: 2802.6699\n",
            "Epoch 272/350\n",
            "3/3 - 0s - loss: 6546666.0000 - mae: 1936.4080 - val_loss: 12532600.0000 - val_mae: 2905.2786\n",
            "Epoch 273/350\n",
            "3/3 - 0s - loss: 6944831.5000 - mae: 1990.3147 - val_loss: 12596667.0000 - val_mae: 2889.9766\n",
            "Epoch 274/350\n",
            "3/3 - 0s - loss: 7284387.0000 - mae: 2048.1016 - val_loss: 12016363.0000 - val_mae: 2787.0422\n",
            "Epoch 275/350\n",
            "3/3 - 0s - loss: 7431856.0000 - mae: 2094.3955 - val_loss: 11318509.0000 - val_mae: 2639.9163\n",
            "Epoch 276/350\n",
            "3/3 - 0s - loss: 7104849.5000 - mae: 2064.8770 - val_loss: 10713833.0000 - val_mae: 2565.7485\n",
            "Epoch 277/350\n",
            "3/3 - 0s - loss: 7470695.5000 - mae: 2164.1594 - val_loss: 10751417.0000 - val_mae: 2543.0437\n",
            "Epoch 278/350\n",
            "3/3 - 0s - loss: 7248934.5000 - mae: 2117.1682 - val_loss: 11270464.0000 - val_mae: 2595.6462\n",
            "Epoch 279/350\n",
            "3/3 - 0s - loss: 6868012.5000 - mae: 2031.3702 - val_loss: 11664445.0000 - val_mae: 2707.9851\n",
            "Epoch 280/350\n",
            "3/3 - 0s - loss: 6692210.5000 - mae: 2011.6779 - val_loss: 12024660.0000 - val_mae: 2782.8027\n",
            "Epoch 281/350\n",
            "3/3 - 0s - loss: 6378376.5000 - mae: 1985.7372 - val_loss: 11911611.0000 - val_mae: 2682.8728\n",
            "Epoch 282/350\n",
            "3/3 - 0s - loss: 6150543.0000 - mae: 1896.2775 - val_loss: 10551228.0000 - val_mae: 2564.3433\n",
            "Epoch 283/350\n",
            "3/3 - 0s - loss: 6048929.0000 - mae: 1925.9663 - val_loss: 10490847.0000 - val_mae: 2587.8235\n",
            "Epoch 284/350\n",
            "3/3 - 0s - loss: 5943410.5000 - mae: 1892.6677 - val_loss: 9095889.0000 - val_mae: 2358.6846\n",
            "Epoch 285/350\n",
            "3/3 - 0s - loss: 5985577.5000 - mae: 1865.3219 - val_loss: 8917351.0000 - val_mae: 2349.0691\n",
            "Epoch 286/350\n",
            "3/3 - 0s - loss: 6034207.0000 - mae: 1866.2010 - val_loss: 9254422.0000 - val_mae: 2444.2048\n",
            "Epoch 287/350\n",
            "3/3 - 0s - loss: 5926757.5000 - mae: 1847.7275 - val_loss: 8893031.0000 - val_mae: 2355.6721\n",
            "Epoch 288/350\n",
            "3/3 - 0s - loss: 5846394.5000 - mae: 1844.0460 - val_loss: 9113823.0000 - val_mae: 2404.5115\n",
            "Epoch 289/350\n",
            "3/3 - 0s - loss: 6134131.5000 - mae: 1887.8386 - val_loss: 9391820.0000 - val_mae: 2453.9558\n",
            "Epoch 290/350\n",
            "3/3 - 0s - loss: 5666687.5000 - mae: 1827.8839 - val_loss: 9401777.0000 - val_mae: 2389.8577\n",
            "Epoch 291/350\n",
            "3/3 - 0s - loss: 5996626.5000 - mae: 1874.5844 - val_loss: 9793123.0000 - val_mae: 2528.7100\n",
            "Epoch 292/350\n",
            "3/3 - 0s - loss: 5788609.5000 - mae: 1829.7383 - val_loss: 10567982.0000 - val_mae: 2591.3479\n",
            "Epoch 293/350\n",
            "3/3 - 0s - loss: 5771804.5000 - mae: 1829.5366 - val_loss: 10422636.0000 - val_mae: 2481.4934\n",
            "Epoch 294/350\n",
            "3/3 - 0s - loss: 5691136.5000 - mae: 1796.3679 - val_loss: 10443503.0000 - val_mae: 2516.5583\n",
            "Epoch 295/350\n",
            "3/3 - 0s - loss: 5788501.5000 - mae: 1826.7372 - val_loss: 10091413.0000 - val_mae: 2433.5098\n",
            "Epoch 296/350\n",
            "3/3 - 0s - loss: 6031387.5000 - mae: 1813.0215 - val_loss: 10075872.0000 - val_mae: 2456.3035\n",
            "Epoch 297/350\n",
            "3/3 - 0s - loss: 6139371.0000 - mae: 1867.6600 - val_loss: 10469487.0000 - val_mae: 2511.0625\n",
            "Epoch 298/350\n",
            "3/3 - 0s - loss: 6144282.0000 - mae: 1878.6971 - val_loss: 10078069.0000 - val_mae: 2430.1306\n",
            "Epoch 299/350\n",
            "3/3 - 0s - loss: 6039022.5000 - mae: 1851.6475 - val_loss: 10271865.0000 - val_mae: 2479.4832\n",
            "Epoch 300/350\n",
            "3/3 - 0s - loss: 5903695.0000 - mae: 1821.9299 - val_loss: 10560892.0000 - val_mae: 2529.8479\n",
            "Epoch 301/350\n",
            "3/3 - 0s - loss: 5728724.5000 - mae: 1796.9633 - val_loss: 10575504.0000 - val_mae: 2586.9497\n",
            "Epoch 302/350\n",
            "3/3 - 0s - loss: 5700570.0000 - mae: 1796.3271 - val_loss: 10814436.0000 - val_mae: 2613.4734\n",
            "Epoch 303/350\n",
            "3/3 - 0s - loss: 5608321.5000 - mae: 1805.0046 - val_loss: 10941115.0000 - val_mae: 2602.6777\n",
            "Epoch 304/350\n",
            "3/3 - 0s - loss: 5492566.0000 - mae: 1762.9080 - val_loss: 10366826.0000 - val_mae: 2529.1128\n",
            "Epoch 305/350\n",
            "3/3 - 0s - loss: 5876567.5000 - mae: 1814.2172 - val_loss: 10352120.0000 - val_mae: 2501.6804\n",
            "Epoch 306/350\n",
            "3/3 - 0s - loss: 5502407.5000 - mae: 1777.7675 - val_loss: 11416656.0000 - val_mae: 2669.7930\n",
            "Epoch 307/350\n",
            "3/3 - 0s - loss: 5872940.5000 - mae: 1829.4327 - val_loss: 10284814.0000 - val_mae: 2508.0659\n",
            "Epoch 308/350\n",
            "3/3 - 0s - loss: 5535272.0000 - mae: 1787.1233 - val_loss: 11162345.0000 - val_mae: 2606.3125\n",
            "Epoch 309/350\n",
            "3/3 - 0s - loss: 6080229.5000 - mae: 1888.6123 - val_loss: 12852288.0000 - val_mae: 2773.3254\n",
            "Epoch 310/350\n",
            "3/3 - 0s - loss: 5964591.0000 - mae: 1909.5468 - val_loss: 10794417.0000 - val_mae: 2568.3013\n",
            "Epoch 311/350\n",
            "3/3 - 0s - loss: 6254489.5000 - mae: 1892.4127 - val_loss: 11323761.0000 - val_mae: 2624.3135\n",
            "Epoch 312/350\n",
            "3/3 - 0s - loss: 5958967.0000 - mae: 1897.2450 - val_loss: 13392740.0000 - val_mae: 2892.2590\n",
            "Epoch 313/350\n",
            "3/3 - 0s - loss: 6150145.5000 - mae: 1962.2360 - val_loss: 13147667.0000 - val_mae: 2816.3340\n",
            "Epoch 314/350\n",
            "3/3 - 0s - loss: 6152365.5000 - mae: 1889.8210 - val_loss: 12818408.0000 - val_mae: 2764.0383\n",
            "Epoch 315/350\n",
            "3/3 - 0s - loss: 6035461.0000 - mae: 1902.9417 - val_loss: 14914465.0000 - val_mae: 2974.3584\n",
            "Epoch 316/350\n",
            "3/3 - 0s - loss: 6099823.0000 - mae: 1983.6281 - val_loss: 14304048.0000 - val_mae: 2951.0605\n",
            "Epoch 317/350\n",
            "3/3 - 0s - loss: 5987414.0000 - mae: 1926.4066 - val_loss: 13399000.0000 - val_mae: 2875.8303\n",
            "Epoch 318/350\n",
            "3/3 - 0s - loss: 6749066.5000 - mae: 1955.3163 - val_loss: 13491201.0000 - val_mae: 2866.7351\n",
            "Epoch 319/350\n",
            "3/3 - 0s - loss: 6183287.5000 - mae: 1996.6665 - val_loss: 17171030.0000 - val_mae: 3040.4922\n",
            "Epoch 320/350\n",
            "3/3 - 0s - loss: 6779780.0000 - mae: 2075.5315 - val_loss: 12633947.0000 - val_mae: 2885.4375\n",
            "Epoch 321/350\n",
            "3/3 - 0s - loss: 6020079.0000 - mae: 1860.6525 - val_loss: 14306119.0000 - val_mae: 2872.3274\n",
            "Epoch 322/350\n",
            "3/3 - 0s - loss: 6072413.0000 - mae: 1981.7521 - val_loss: 15315936.0000 - val_mae: 2920.1682\n",
            "Epoch 323/350\n",
            "3/3 - 0s - loss: 6523693.0000 - mae: 1993.8386 - val_loss: 12755125.0000 - val_mae: 2835.3320\n",
            "Epoch 324/350\n",
            "3/3 - 0s - loss: 5970996.0000 - mae: 1868.7970 - val_loss: 15958976.0000 - val_mae: 3005.0273\n",
            "Epoch 325/350\n",
            "3/3 - 0s - loss: 6639407.0000 - mae: 2108.3066 - val_loss: 12983480.0000 - val_mae: 2815.1038\n",
            "Epoch 326/350\n",
            "3/3 - 0s - loss: 5432735.0000 - mae: 1818.4839 - val_loss: 10862159.0000 - val_mae: 2578.8049\n",
            "Epoch 327/350\n",
            "3/3 - 0s - loss: 6350589.0000 - mae: 1936.8546 - val_loss: 13311591.0000 - val_mae: 2937.6414\n",
            "Epoch 328/350\n",
            "3/3 - 0s - loss: 6759433.0000 - mae: 2064.0393 - val_loss: 12723165.0000 - val_mae: 2867.3689\n",
            "Epoch 329/350\n",
            "3/3 - 0s - loss: 6399552.0000 - mae: 2008.6250 - val_loss: 11728535.0000 - val_mae: 2764.3596\n",
            "Epoch 330/350\n",
            "3/3 - 0s - loss: 6977340.5000 - mae: 2084.1038 - val_loss: 13158851.0000 - val_mae: 2968.2200\n",
            "Epoch 331/350\n",
            "3/3 - 0s - loss: 8064555.5000 - mae: 2259.1501 - val_loss: 14531671.0000 - val_mae: 3071.2803\n",
            "Epoch 332/350\n",
            "3/3 - 0s - loss: 8165891.5000 - mae: 2227.0603 - val_loss: 13586925.0000 - val_mae: 3053.4929\n",
            "Epoch 333/350\n",
            "3/3 - 0s - loss: 7364152.5000 - mae: 2107.4377 - val_loss: 14256619.0000 - val_mae: 2821.8455\n",
            "Epoch 334/350\n",
            "3/3 - 0s - loss: 7453855.0000 - mae: 2172.9119 - val_loss: 13466919.0000 - val_mae: 2767.4424\n",
            "Epoch 335/350\n",
            "3/3 - 0s - loss: 6543079.5000 - mae: 1989.1038 - val_loss: 11451971.0000 - val_mae: 2725.4543\n",
            "Epoch 336/350\n",
            "3/3 - 0s - loss: 6753257.5000 - mae: 1957.5148 - val_loss: 11465928.0000 - val_mae: 2717.7910\n",
            "Epoch 337/350\n",
            "3/3 - 0s - loss: 6548199.5000 - mae: 1959.6312 - val_loss: 12413887.0000 - val_mae: 2707.6047\n",
            "Epoch 338/350\n",
            "3/3 - 0s - loss: 6331999.5000 - mae: 1995.4890 - val_loss: 10934936.0000 - val_mae: 2603.9348\n",
            "Epoch 339/350\n",
            "3/3 - 0s - loss: 6983952.0000 - mae: 2053.4221 - val_loss: 10839495.0000 - val_mae: 2603.7952\n",
            "Epoch 340/350\n",
            "3/3 - 0s - loss: 6266469.5000 - mae: 1909.3116 - val_loss: 12468271.0000 - val_mae: 2806.7952\n",
            "Epoch 341/350\n",
            "3/3 - 0s - loss: 6534832.0000 - mae: 2020.6478 - val_loss: 10963839.0000 - val_mae: 2595.0862\n",
            "Epoch 342/350\n",
            "3/3 - 0s - loss: 6232278.0000 - mae: 1914.9907 - val_loss: 10855000.0000 - val_mae: 2613.0642\n",
            "Epoch 343/350\n",
            "3/3 - 0s - loss: 6191227.0000 - mae: 1912.8063 - val_loss: 11224093.0000 - val_mae: 2625.7810\n",
            "Epoch 344/350\n",
            "3/3 - 0s - loss: 6223844.5000 - mae: 1958.8218 - val_loss: 11282171.0000 - val_mae: 2626.5063\n",
            "Epoch 345/350\n",
            "3/3 - 0s - loss: 6365817.0000 - mae: 1952.3762 - val_loss: 10675565.0000 - val_mae: 2565.0242\n",
            "Epoch 346/350\n",
            "3/3 - 0s - loss: 6155719.0000 - mae: 1875.4856 - val_loss: 11456809.0000 - val_mae: 2625.0168\n",
            "Epoch 347/350\n",
            "3/3 - 0s - loss: 6069207.0000 - mae: 1930.1406 - val_loss: 10964572.0000 - val_mae: 2582.9675\n",
            "Epoch 348/350\n",
            "3/3 - 0s - loss: 6038801.0000 - mae: 1893.0168 - val_loss: 10776141.0000 - val_mae: 2597.4700\n",
            "Epoch 349/350\n",
            "3/3 - 0s - loss: 6202511.5000 - mae: 1918.1406 - val_loss: 10758328.0000 - val_mae: 2582.1755\n",
            "Epoch 350/350\n",
            "3/3 - 0s - loss: 6113784.5000 - mae: 1960.9971 - val_loss: 11926677.0000 - val_mae: 2690.7141\n",
            "MSE: 11926677.000, RMSE: 3453.502, MAE: 2690.714\n",
            "Predicted: 17254.643\n"
          ],
          "name": "stdout"
        }
      ]
    },
    {
      "cell_type": "markdown",
      "metadata": {
        "id": "01DwuaeVBo71"
      },
      "source": [
        "Model Text Description"
      ]
    },
    {
      "cell_type": "code",
      "metadata": {
        "id": "o-mOnQrjBGfX",
        "outputId": "c8778487-9671-4d38-db31-3ca59aa7c1a6",
        "colab": {
          "base_uri": "https://localhost:8080/",
          "height": 255
        }
      },
      "source": [
        "from tensorflow.keras import Sequential\n",
        "from tensorflow.keras.layers import Dense\n",
        "# define model\n",
        "model = Sequential()\n",
        "model.add(Dense(10, activation='relu', kernel_initializer='he_normal', input_shape=(8,)))\n",
        "model.add(Dense(8, activation='relu', kernel_initializer='he_normal'))\n",
        "model.add(Dense(1, activation='sigmoid'))\n",
        "# summarize the model\n",
        "model.summary()"
      ],
      "execution_count": 18,
      "outputs": [
        {
          "output_type": "stream",
          "text": [
            "Model: \"sequential_2\"\n",
            "_________________________________________________________________\n",
            "Layer (type)                 Output Shape              Param #   \n",
            "=================================================================\n",
            "dense_5 (Dense)              (None, 10)                90        \n",
            "_________________________________________________________________\n",
            "dense_6 (Dense)              (None, 8)                 88        \n",
            "_________________________________________________________________\n",
            "dense_7 (Dense)              (None, 1)                 9         \n",
            "=================================================================\n",
            "Total params: 187\n",
            "Trainable params: 187\n",
            "Non-trainable params: 0\n",
            "_________________________________________________________________\n"
          ],
          "name": "stdout"
        }
      ]
    },
    {
      "cell_type": "markdown",
      "metadata": {
        "id": "Y4E_L2rqEpI5"
      },
      "source": [
        "Model Architecture Plot"
      ]
    },
    {
      "cell_type": "code",
      "metadata": {
        "id": "8YjqQa-HEfgh",
        "outputId": "1f33e185-a59f-4739-fcdb-3d38ca72f1fb",
        "colab": {
          "base_uri": "https://localhost:8080/",
          "height": 422
        }
      },
      "source": [
        "from tensorflow.keras import Sequential\n",
        "from tensorflow.keras.layers import Dense\n",
        "from tensorflow.keras.utils import plot_model\n",
        "# define model\n",
        "model = Sequential()\n",
        "model.add(Dense(10, activation='relu', kernel_initializer='he_normal', input_shape=(8,)))\n",
        "model.add(Dense(8, activation='relu', kernel_initializer='he_normal'))\n",
        "model.add(Dense(1, activation='sigmoid'))\n",
        "# summarize the model\n",
        "plot_model(model,show_shapes=True)"
      ],
      "execution_count": 19,
      "outputs": [
        {
          "output_type": "execute_result",
          "data": {
            "image/png": "[encoded data removed]",
            "text/plain": [
              "<IPython.core.display.Image object>"
            ]
          },
          "metadata": {
            "tags": []
          },
          "execution_count": 19
        }
      ]
    },
    {
      "cell_type": "markdown",
      "metadata": {
        "id": "i7OmSsKuFAKD"
      },
      "source": [
        "Save and Load Model"
      ]
    },
    {
      "cell_type": "code",
      "metadata": {
        "id": "aowZf8E1EzTy"
      },
      "source": [
        "from sklearn.datasets import make_classification\n",
        "from tensorflow.keras import Sequential\n",
        "from tensorflow.keras.layers import Dense\n",
        "from tensorflow.keras.optimizers import SGD\n",
        "# create the dataset\n",
        "X, y = make_classification(n_samples=1000, n_features=4, n_classes=2, random_state=1)\n",
        "# determine the number of input features\n",
        "n_features = X.shape[1]\n",
        "# define model\n",
        "model = Sequential()\n",
        "model.add(Dense(10, activation='relu', kernel_initializer='he_normal', input_shape=(n_features,)))\n",
        "model.add(Dense(1, activation='sigmoid'))\n",
        "# compile the model\n",
        "sgd = SGD(learning_rate=0.001, momentum=0.8)\n",
        "model.compile(optimizer=sgd, loss='binary_crossentropy')\n",
        "# fit the model\n",
        "model.fit(X, y, epochs=100, batch_size=32, verbose=0, validation_split=0.3)\n",
        "# save model to file\n",
        "model.save('model.h5')"
      ],
      "execution_count": 20,
      "outputs": []
    },
    {
      "cell_type": "code",
      "metadata": {
        "id": "jPambahEFLSJ",
        "outputId": "570179aa-54ec-4b3a-9864-189256f70418",
        "colab": {
          "base_uri": "https://localhost:8080/",
          "height": 34
        }
      },
      "source": [
        "from sklearn.datasets import make_classification\n",
        "from tensorflow.keras.models import load_model\n",
        "# create the dataset\n",
        "X, y = make_classification(n_samples=1000, n_features=4, n_classes=2, random_state=1)\n",
        "# load the model from file\n",
        "model = load_model('model.h5')\n",
        "# make a prediction\n",
        "row = [1.91518414, 1.14995454, -1.52847073, 0.79430654]\n",
        "yhat = model.predict([row])\n",
        "print('Predicted: %.3f' % yhat[0])"
      ],
      "execution_count": 21,
      "outputs": [
        {
          "output_type": "stream",
          "text": [
            "Predicted: 0.851\n"
          ],
          "name": "stdout"
        }
      ]
    },
    {
      "cell_type": "markdown",
      "metadata": {
        "id": "uXk4Dk-FFjFh"
      },
      "source": [
        "Reduce Overfitting With Dropout"
      ]
    },
    {
      "cell_type": "code",
      "metadata": {
        "id": "qrCm0ToWFVJs",
        "outputId": "d7ee4469-509e-48f0-a7ab-e74498c86a13",
        "colab": {
          "base_uri": "https://localhost:8080/",
          "height": 34
        }
      },
      "source": [
        "from sklearn.datasets import make_classification\n",
        "from tensorflow.keras import Sequential\n",
        "from tensorflow.keras.layers import Dense\n",
        "from tensorflow.keras.layers import Dropout\n",
        "from matplotlib import pyplot\n",
        "# create the dataset\n",
        "X, y = make_classification(n_samples=1000, n_classes=2, random_state=1)\n",
        "# determine the number of input features\n",
        "n_features = X.shape[1]\n",
        "# define model\n",
        "model = Sequential()\n",
        "model.add(Dense(10, activation='relu', kernel_initializer='he_normal', input_shape=(n_features,)))\n",
        "model.add(Dropout(0.5))\n",
        "model.add(Dense(1, activation='sigmoid'))\n",
        "# compile the model\n",
        "model.compile(optimizer='adam', loss='binary_crossentropy')\n",
        "# fit the model\n",
        "model.fit(X, y, epochs=100, batch_size=32, verbose=0)\n"
      ],
      "execution_count": 22,
      "outputs": [
        {
          "output_type": "execute_result",
          "data": {
            "text/plain": [
              "<tensorflow.python.keras.callbacks.History at 0x7eff2efeed68>"
            ]
          },
          "metadata": {
            "tags": []
          },
          "execution_count": 22
        }
      ]
    },
    {
      "cell_type": "markdown",
      "metadata": {
        "id": "arQn56zyGMo1"
      },
      "source": [
        "Accelerate Training With Batch Normalization"
      ]
    },
    {
      "cell_type": "code",
      "metadata": {
        "id": "diwt58RaGIa_",
        "outputId": "9e312289-b01c-4ab3-fe9a-306691367123",
        "colab": {
          "base_uri": "https://localhost:8080/",
          "height": 34
        }
      },
      "source": [
        "from sklearn.datasets import make_classification\n",
        "from tensorflow.keras import Sequential\n",
        "from tensorflow.keras.layers import Dense\n",
        "from tensorflow.keras.layers import BatchNormalization\n",
        "from matplotlib import pyplot\n",
        "# create the dataset\n",
        "X, y = make_classification(n_samples=1000, n_classes=2, random_state=1)\n",
        "# determine the number of input features\n",
        "n_features = X.shape[1]\n",
        "# define model\n",
        "model = Sequential()\n",
        "model.add(Dense(10, activation='relu', kernel_initializer='he_normal', input_shape=(n_features,)))\n",
        "model.add(BatchNormalization())\n",
        "model.add(Dense(1, activation='sigmoid'))\n",
        "# compile the model\n",
        "model.compile(optimizer='adam', loss='binary_crossentropy')\n",
        "# fit the model\n",
        "model.fit(X, y, epochs=100, batch_size=32, verbose=0)"
      ],
      "execution_count": 23,
      "outputs": [
        {
          "output_type": "execute_result",
          "data": {
            "text/plain": [
              "<tensorflow.python.keras.callbacks.History at 0x7eff2fe83e48>"
            ]
          },
          "metadata": {
            "tags": []
          },
          "execution_count": 23
        }
      ]
    },
    {
      "cell_type": "markdown",
      "metadata": {
        "id": "yaRmAJlDGwW3"
      },
      "source": [
        "Halt Training at the Right Time With Early Stopping"
      ]
    },
    {
      "cell_type": "code",
      "metadata": {
        "id": "Ype_-0QTGnzK"
      },
      "source": [
        "from sklearn.datasets import make_classification\n",
        "from tensorflow.keras import Sequential\n",
        "from tensorflow.keras.layers import Dense\n",
        "from tensorflow.keras.callbacks import EarlyStopping\n",
        "# create the dataset\n",
        "X, y = make_classification(n_samples=1000, n_classes=2, random_state=1)\n",
        "# determine the number of input features\n",
        "n_features = X.shape[1]\n",
        "# define model\n",
        "model = Sequential()\n",
        "model.add(Dense(10, activation='relu', kernel_initializer='he_normal', input_shape=(n_features,)))\n",
        "model.add(Dense(1, activation='sigmoid'))\n",
        "# compile the model\n",
        "model.compile(optimizer='adam', loss='binary_crossentropy')\n",
        "# configure early stopping\n",
        "es = EarlyStopping(monitor='val_loss', patience=5)\n",
        "# fit the model\n",
        "history = model.fit(X, y, epochs=200, batch_size=32, verbose=0, validation_split=0.3, callbacks=[es])"
      ],
      "execution_count": 24,
      "outputs": []
    },
    {
      "cell_type": "markdown",
      "metadata": {
        "id": "VnFmBwN1HZDU"
      },
      "source": [
        "Plot Model Learning Curves"
      ]
    },
    {
      "cell_type": "code",
      "metadata": {
        "id": "o7yd-T09G5by",
        "outputId": "933f788d-1541-4611-ebce-76be2351d2ca",
        "colab": {
          "base_uri": "https://localhost:8080/",
          "height": 295
        }
      },
      "source": [
        "from sklearn.datasets import make_classification\n",
        "from tensorflow.keras import Sequential\n",
        "from tensorflow.keras.layers import Dense\n",
        "from tensorflow.keras.optimizers import SGD\n",
        "from matplotlib import pyplot\n",
        "# create the dataset\n",
        "X, y = make_classification(n_samples=1000, n_classes=2, random_state=1)\n",
        "# determine the number of input features\n",
        "n_features = X.shape[1]\n",
        "# define model\n",
        "model = Sequential()\n",
        "model.add(Dense(10, activation='relu', kernel_initializer='he_normal', input_shape=(n_features,)))\n",
        "model.add(Dense(1, activation='sigmoid'))\n",
        "# compile the model\n",
        "sgd = SGD(learning_rate=0.001, momentum=0.8)\n",
        "model.compile(optimizer=sgd, loss='binary_crossentropy')\n",
        "# fit the model\n",
        "history = model.fit(X, y, epochs=100, batch_size=32, verbose=0, validation_split=0.3)\n",
        "# plot learning curves\n",
        "pyplot.title('Learning Curves')\n",
        "pyplot.xlabel('Epoch')\n",
        "pyplot.ylabel('Cross Entropy')\n",
        "pyplot.plot(history.history['loss'], label='train')\n",
        "pyplot.plot(history.history['val_loss'], label='val')\n",
        "pyplot.legend()\n",
        "pyplot.show()"
      ],
      "execution_count": 25,
      "outputs": [
        {
          "output_type": "display_data",
          "data": {
            "image/png": "[encoded data removed]",
            "text/plain": [
              "<Figure size 432x288 with 1 Axes>"
            ]
          },
          "metadata": {
            "tags": [],
            "needs_background": "light"
          }
        }
      ]
    },
    {
      "cell_type": "markdown",
      "metadata": {
        "id": "dSSSGKxxInNR"
      },
      "source": [
        "The cross-entropy loss for the training dataset is accessed via the ‘loss‘ key and the loss on the validation dataset is accessed via the ‘val_loss‘ key on the history attribute of the history object."
      ]
    }
  ]
}